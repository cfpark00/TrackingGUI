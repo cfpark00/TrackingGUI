{
 "cells": [
  {
   "cell_type": "code",
   "execution_count": 8,
   "id": "25297484",
   "metadata": {},
   "outputs": [],
   "source": [
    "import scipy.spatial as sspat\n",
    "import numpy as np\n",
    "from src.Dataset import Dataset\n",
    "import scipy.interpolate as sintp\n",
    "from src.methods.neural_network_tools import deformation\n",
    "import torch\n",
    "import matplotlib.pyplot as plt"
   ]
  },
  {
   "cell_type": "code",
   "execution_count": 9,
   "id": "e7119611",
   "metadata": {},
   "outputs": [],
   "source": [
    "dataset=Dataset(\"/home/cfpark00/TrackingGUI/data/mili1-gt.h5\")\n",
    "dataset.open()\n",
    "points=dataset.get_points()\n",
    "dataset.close()"
   ]
  },
  {
   "cell_type": "code",
   "execution_count": 11,
   "id": "a2d458fd",
   "metadata": {},
   "outputs": [],
   "source": [
    "np.save(\"points.npy\",points)"
   ]
  },
  {
   "cell_type": "code",
   "execution_count": null,
   "id": "7bcdfb1e",
   "metadata": {},
   "outputs": [],
   "source": []
  },
  {
   "cell_type": "code",
   "execution_count": null,
   "id": "4b98a5cb",
   "metadata": {},
   "outputs": [],
   "source": []
  },
  {
   "cell_type": "code",
   "execution_count": 2,
   "id": "ebce211c",
   "metadata": {},
   "outputs": [
    {
     "ename": "FileNotFoundError",
     "evalue": "[Errno 2] Unable to open file (unable to open file: name = '/home/cfpark00/Projects/WormTracking/targettrack/data/184.h5', errno = 2, error message = 'No such file or directory', flags = 1, o_flags = 2)",
     "output_type": "error",
     "traceback": [
      "\u001b[0;31m---------------------------------------------------------------------------\u001b[0m",
      "\u001b[0;31mFileNotFoundError\u001b[0m                         Traceback (most recent call last)",
      "\u001b[0;32m/var/folders/2f/2w086jzs0294461454p43zgm0000gn/T/ipykernel_46070/2032487967.py\u001b[0m in \u001b[0;36m<module>\u001b[0;34m\u001b[0m\n\u001b[1;32m      1\u001b[0m \u001b[0mdataset\u001b[0m\u001b[0;34m=\u001b[0m\u001b[0mDataset\u001b[0m\u001b[0;34m(\u001b[0m\u001b[0;34m\"/home/cfpark00/Projects/WormTracking/targettrack/data/184.h5\"\u001b[0m\u001b[0;34m)\u001b[0m\u001b[0;34m\u001b[0m\u001b[0;34m\u001b[0m\u001b[0m\n\u001b[0;32m----> 2\u001b[0;31m \u001b[0mdataset\u001b[0m\u001b[0;34m.\u001b[0m\u001b[0mopen\u001b[0m\u001b[0;34m(\u001b[0m\u001b[0;34m)\u001b[0m\u001b[0;34m\u001b[0m\u001b[0;34m\u001b[0m\u001b[0m\n\u001b[0m\u001b[1;32m      3\u001b[0m \u001b[0mpoints\u001b[0m\u001b[0;34m=\u001b[0m\u001b[0mdataset\u001b[0m\u001b[0;34m.\u001b[0m\u001b[0mget_points\u001b[0m\u001b[0;34m(\u001b[0m\u001b[0;34m)\u001b[0m\u001b[0;34m\u001b[0m\u001b[0;34m\u001b[0m\u001b[0m\n\u001b[1;32m      4\u001b[0m \u001b[0mdataset\u001b[0m\u001b[0;34m.\u001b[0m\u001b[0mclose\u001b[0m\u001b[0;34m(\u001b[0m\u001b[0;34m)\u001b[0m\u001b[0;34m\u001b[0m\u001b[0;34m\u001b[0m\u001b[0m\n",
      "\u001b[0;32m~/Projects/TrackingGUI/src/Dataset.py\u001b[0m in \u001b[0;36mopen\u001b[0;34m(self)\u001b[0m\n\u001b[1;32m     20\u001b[0m         \u001b[0;32massert\u001b[0m \u001b[0mself\u001b[0m\u001b[0;34m.\u001b[0m\u001b[0mdata\u001b[0m \u001b[0;32mis\u001b[0m  \u001b[0;32mNone\u001b[0m\u001b[0;34m,\u001b[0m \u001b[0;34m\"file already open\"\u001b[0m\u001b[0;34m\u001b[0m\u001b[0;34m\u001b[0m\u001b[0m\n\u001b[1;32m     21\u001b[0m         \u001b[0;32mif\u001b[0m \u001b[0mself\u001b[0m\u001b[0;34m.\u001b[0m\u001b[0msuffix\u001b[0m\u001b[0;34m==\u001b[0m\u001b[0;34m\"h5\"\u001b[0m\u001b[0;34m:\u001b[0m\u001b[0;34m\u001b[0m\u001b[0;34m\u001b[0m\u001b[0m\n\u001b[0;32m---> 22\u001b[0;31m             \u001b[0mself\u001b[0m\u001b[0;34m.\u001b[0m\u001b[0mdata\u001b[0m\u001b[0;34m=\u001b[0m\u001b[0mh5py\u001b[0m\u001b[0;34m.\u001b[0m\u001b[0mFile\u001b[0m\u001b[0;34m(\u001b[0m\u001b[0mself\u001b[0m\u001b[0;34m.\u001b[0m\u001b[0mfile_path\u001b[0m\u001b[0;34m,\u001b[0m\u001b[0;34m\"r+\"\u001b[0m\u001b[0;34m)\u001b[0m\u001b[0;34m\u001b[0m\u001b[0;34m\u001b[0m\u001b[0m\n\u001b[0m\u001b[1;32m     23\u001b[0m \u001b[0;34m\u001b[0m\u001b[0m\n\u001b[1;32m     24\u001b[0m     \u001b[0;32mdef\u001b[0m \u001b[0mclose\u001b[0m\u001b[0;34m(\u001b[0m\u001b[0mself\u001b[0m\u001b[0;34m)\u001b[0m\u001b[0;34m:\u001b[0m\u001b[0;34m\u001b[0m\u001b[0;34m\u001b[0m\u001b[0m\n",
      "\u001b[0;32m/opt/anaconda3/lib/python3.9/site-packages/h5py/_hl/files.py\u001b[0m in \u001b[0;36m__init__\u001b[0;34m(self, name, mode, driver, libver, userblock_size, swmr, rdcc_nslots, rdcc_nbytes, rdcc_w0, track_order, fs_strategy, fs_persist, fs_threshold, fs_page_size, page_buf_size, min_meta_keep, min_raw_keep, locking, **kwds)\u001b[0m\n\u001b[1;32m    505\u001b[0m                                  \u001b[0mfs_persist\u001b[0m\u001b[0;34m=\u001b[0m\u001b[0mfs_persist\u001b[0m\u001b[0;34m,\u001b[0m \u001b[0mfs_threshold\u001b[0m\u001b[0;34m=\u001b[0m\u001b[0mfs_threshold\u001b[0m\u001b[0;34m,\u001b[0m\u001b[0;34m\u001b[0m\u001b[0;34m\u001b[0m\u001b[0m\n\u001b[1;32m    506\u001b[0m                                  fs_page_size=fs_page_size)\n\u001b[0;32m--> 507\u001b[0;31m                 \u001b[0mfid\u001b[0m \u001b[0;34m=\u001b[0m \u001b[0mmake_fid\u001b[0m\u001b[0;34m(\u001b[0m\u001b[0mname\u001b[0m\u001b[0;34m,\u001b[0m \u001b[0mmode\u001b[0m\u001b[0;34m,\u001b[0m \u001b[0muserblock_size\u001b[0m\u001b[0;34m,\u001b[0m \u001b[0mfapl\u001b[0m\u001b[0;34m,\u001b[0m \u001b[0mfcpl\u001b[0m\u001b[0;34m,\u001b[0m \u001b[0mswmr\u001b[0m\u001b[0;34m=\u001b[0m\u001b[0mswmr\u001b[0m\u001b[0;34m)\u001b[0m\u001b[0;34m\u001b[0m\u001b[0;34m\u001b[0m\u001b[0m\n\u001b[0m\u001b[1;32m    508\u001b[0m \u001b[0;34m\u001b[0m\u001b[0m\n\u001b[1;32m    509\u001b[0m             \u001b[0;32mif\u001b[0m \u001b[0misinstance\u001b[0m\u001b[0;34m(\u001b[0m\u001b[0mlibver\u001b[0m\u001b[0;34m,\u001b[0m \u001b[0mtuple\u001b[0m\u001b[0;34m)\u001b[0m\u001b[0;34m:\u001b[0m\u001b[0;34m\u001b[0m\u001b[0;34m\u001b[0m\u001b[0m\n",
      "\u001b[0;32m/opt/anaconda3/lib/python3.9/site-packages/h5py/_hl/files.py\u001b[0m in \u001b[0;36mmake_fid\u001b[0;34m(name, mode, userblock_size, fapl, fcpl, swmr)\u001b[0m\n\u001b[1;32m    220\u001b[0m         \u001b[0mfid\u001b[0m \u001b[0;34m=\u001b[0m \u001b[0mh5f\u001b[0m\u001b[0;34m.\u001b[0m\u001b[0mopen\u001b[0m\u001b[0;34m(\u001b[0m\u001b[0mname\u001b[0m\u001b[0;34m,\u001b[0m \u001b[0mflags\u001b[0m\u001b[0;34m,\u001b[0m \u001b[0mfapl\u001b[0m\u001b[0;34m=\u001b[0m\u001b[0mfapl\u001b[0m\u001b[0;34m)\u001b[0m\u001b[0;34m\u001b[0m\u001b[0;34m\u001b[0m\u001b[0m\n\u001b[1;32m    221\u001b[0m     \u001b[0;32melif\u001b[0m \u001b[0mmode\u001b[0m \u001b[0;34m==\u001b[0m \u001b[0;34m'r+'\u001b[0m\u001b[0;34m:\u001b[0m\u001b[0;34m\u001b[0m\u001b[0;34m\u001b[0m\u001b[0m\n\u001b[0;32m--> 222\u001b[0;31m         \u001b[0mfid\u001b[0m \u001b[0;34m=\u001b[0m \u001b[0mh5f\u001b[0m\u001b[0;34m.\u001b[0m\u001b[0mopen\u001b[0m\u001b[0;34m(\u001b[0m\u001b[0mname\u001b[0m\u001b[0;34m,\u001b[0m \u001b[0mh5f\u001b[0m\u001b[0;34m.\u001b[0m\u001b[0mACC_RDWR\u001b[0m\u001b[0;34m,\u001b[0m \u001b[0mfapl\u001b[0m\u001b[0;34m=\u001b[0m\u001b[0mfapl\u001b[0m\u001b[0;34m)\u001b[0m\u001b[0;34m\u001b[0m\u001b[0;34m\u001b[0m\u001b[0m\n\u001b[0m\u001b[1;32m    223\u001b[0m     \u001b[0;32melif\u001b[0m \u001b[0mmode\u001b[0m \u001b[0;32min\u001b[0m \u001b[0;34m[\u001b[0m\u001b[0;34m'w-'\u001b[0m\u001b[0;34m,\u001b[0m \u001b[0;34m'x'\u001b[0m\u001b[0;34m]\u001b[0m\u001b[0;34m:\u001b[0m\u001b[0;34m\u001b[0m\u001b[0;34m\u001b[0m\u001b[0m\n\u001b[1;32m    224\u001b[0m         \u001b[0mfid\u001b[0m \u001b[0;34m=\u001b[0m \u001b[0mh5f\u001b[0m\u001b[0;34m.\u001b[0m\u001b[0mcreate\u001b[0m\u001b[0;34m(\u001b[0m\u001b[0mname\u001b[0m\u001b[0;34m,\u001b[0m \u001b[0mh5f\u001b[0m\u001b[0;34m.\u001b[0m\u001b[0mACC_EXCL\u001b[0m\u001b[0;34m,\u001b[0m \u001b[0mfapl\u001b[0m\u001b[0;34m=\u001b[0m\u001b[0mfapl\u001b[0m\u001b[0;34m,\u001b[0m \u001b[0mfcpl\u001b[0m\u001b[0;34m=\u001b[0m\u001b[0mfcpl\u001b[0m\u001b[0;34m)\u001b[0m\u001b[0;34m\u001b[0m\u001b[0;34m\u001b[0m\u001b[0m\n",
      "\u001b[0;32mh5py/_objects.pyx\u001b[0m in \u001b[0;36mh5py._objects.with_phil.wrapper\u001b[0;34m()\u001b[0m\n",
      "\u001b[0;32mh5py/_objects.pyx\u001b[0m in \u001b[0;36mh5py._objects.with_phil.wrapper\u001b[0;34m()\u001b[0m\n",
      "\u001b[0;32mh5py/h5f.pyx\u001b[0m in \u001b[0;36mh5py.h5f.open\u001b[0;34m()\u001b[0m\n",
      "\u001b[0;31mFileNotFoundError\u001b[0m: [Errno 2] Unable to open file (unable to open file: name = '/home/cfpark00/Projects/WormTracking/targettrack/data/184.h5', errno = 2, error message = 'No such file or directory', flags = 1, o_flags = 2)"
     ]
    }
   ],
   "source": [
    "dataset=Dataset(\"/home/cfpark00/Projects/WormTracking/targettrack/data/184.h5\")\n",
    "dataset.open()\n",
    "points=dataset.get_points()\n",
    "dataset.close()"
   ]
  },
  {
   "cell_type": "code",
   "execution_count": 3,
   "id": "b5aec8ce",
   "metadata": {},
   "outputs": [
    {
     "data": {
      "text/plain": [
       "<matplotlib.collections.PathCollection at 0x7f96356de250>"
      ]
     },
     "execution_count": 3,
     "metadata": {},
     "output_type": "execute_result"
    },
    {
     "data": {
      "image/png": "[encoded data removed]",
      "text/plain": [
       "<Figure size 432x288 with 1 Axes>"
      ]
     },
     "metadata": {
      "needs_background": "light"
     },
     "output_type": "display_data"
    }
   ],
   "source": [
    "ptfrom=points[0]\n",
    "ptto=points[100]\n",
    "plt.scatter(*ptfrom[:,:2].T)\n",
    "plt.scatter(*ptto[:,:2].T)"
   ]
  },
  {
   "cell_type": "code",
   "execution_count": 4,
   "id": "28698c78",
   "metadata": {},
   "outputs": [
    {
     "name": "stdout",
     "output_type": "stream",
     "text": [
      "4.869450092315674\n",
      "4.919613361358643\n",
      "3.572965621948242\n",
      "2.6245758533477783\n",
      "2.8917317390441895\n",
      "2.784406900405884\n",
      "2.377760410308838\n",
      "2.189540386199951\n",
      "2.09248423576355\n",
      "1.8094682693481445\n",
      "1.604529619216919\n",
      "1.5201798677444458\n",
      "1.5096213817596436\n",
      "1.475572943687439\n",
      "1.4074437618255615\n",
      "1.4056341648101807\n",
      "1.409444808959961\n",
      "1.3877288103103638\n",
      "1.243016004562378\n",
      "1.1371523141860962\n",
      "1.0456931591033936\n",
      "1.0602575540542603\n",
      "1.031825304031372\n",
      "1.0220222473144531\n",
      "0.9543790817260742\n",
      "0.9542558193206787\n",
      "0.9625335335731506\n",
      "0.9586924910545349\n",
      "0.8873180150985718\n",
      "0.8446359634399414\n",
      "0.7950338125228882\n",
      "0.7867451906204224\n",
      "0.8079757690429688\n",
      "0.7933118343353271\n",
      "0.7538635730743408\n",
      "0.7355953454971313\n",
      "0.7380530834197998\n",
      "0.7113739848136902\n",
      "0.6954070329666138\n",
      "0.6789027452468872\n",
      "0.6751428842544556\n",
      "0.6545417904853821\n",
      "0.6609717011451721\n",
      "0.6640117168426514\n",
      "0.6332080960273743\n",
      "0.6262078881263733\n",
      "0.6198529005050659\n",
      "0.6108863353729248\n",
      "0.6228138208389282\n",
      "0.5922449231147766\n",
      "0.5897855162620544\n",
      "0.579684853553772\n",
      "0.5713846683502197\n",
      "0.566208004951477\n",
      "0.5813540816307068\n",
      "0.5580483078956604\n",
      "0.5475435256958008\n",
      "0.5631707310676575\n",
      "0.5422406196594238\n",
      "0.5607808232307434\n",
      "0.5477496385574341\n",
      "0.5567710399627686\n",
      "0.5489920377731323\n",
      "0.5417783260345459\n",
      "0.5423051118850708\n",
      "0.5430471301078796\n",
      "0.5386737585067749\n",
      "0.5335942506790161\n",
      "0.5283387303352356\n",
      "0.5349409580230713\n",
      "0.5170302987098694\n",
      "0.5336565971374512\n",
      "0.5287598967552185\n",
      "0.5162807106971741\n",
      "0.5171553492546082\n",
      "0.5340989232063293\n",
      "0.519676923751831\n",
      "0.5204814672470093\n",
      "0.5115894675254822\n",
      "0.5243310332298279\n",
      "0.5116560459136963\n",
      "0.5282938480377197\n",
      "0.5116962790489197\n",
      "0.5186182856559753\n",
      "0.5196710824966431\n",
      "0.5100593566894531\n",
      "0.5267823338508606\n",
      "0.5283266305923462\n",
      "0.5117968320846558\n",
      "0.5390392541885376\n",
      "0.5118996500968933\n",
      "0.5214371681213379\n",
      "0.5063183903694153\n",
      "0.5355653762817383\n",
      "0.5159820318222046\n",
      "0.5231999754905701\n",
      "0.5459352731704712\n",
      "0.5229687690734863\n",
      "0.5486859083175659\n",
      "0.5318701267242432\n",
      "0.5168755054473877\n",
      "0.5331577062606812\n",
      "0.5271634459495544\n",
      "0.5408604741096497\n",
      "0.5364861488342285\n",
      "0.5392844676971436\n",
      "0.5038036704063416\n",
      "0.5540602207183838\n",
      "0.5117096304893494\n",
      "0.54558926820755\n",
      "0.543736457824707\n",
      "0.5237919688224792\n",
      "0.5234802961349487\n",
      "0.5265645384788513\n",
      "0.5114232897758484\n",
      "0.541774332523346\n",
      "0.5239611268043518\n",
      "0.5308316946029663\n",
      "0.5167667269706726\n",
      "0.5168681740760803\n",
      "0.5130914449691772\n",
      "0.519745409488678\n",
      "0.5176334381103516\n",
      "0.49793967604637146\n",
      "0.5325955152511597\n",
      "0.514706015586853\n",
      "0.4833657145500183\n",
      "0.5011675953865051\n",
      "0.4930630028247833\n",
      "0.5153849720954895\n",
      "0.49307411909103394\n",
      "0.5003793835639954\n",
      "0.4911409914493561\n",
      "0.5182197690010071\n",
      "0.4866192638874054\n",
      "0.5054190158843994\n",
      "0.4966180622577667\n",
      "0.48438572883605957\n",
      "0.5004894733428955\n",
      "0.49089884757995605\n",
      "0.4896770119667053\n",
      "0.49651622772216797\n",
      "0.48799386620521545\n",
      "0.4844140112400055\n",
      "0.4905919134616852\n",
      "0.4824017286300659\n",
      "0.49572867155075073\n",
      "0.48029136657714844\n",
      "0.4856937825679779\n",
      "0.496023565530777\n",
      "0.4941515624523163\n",
      "0.49600568413734436\n",
      "0.49846652150154114\n",
      "0.48747944831848145\n",
      "0.49811673164367676\n",
      "0.508407711982727\n",
      "0.4876464009284973\n",
      "0.4987291097640991\n",
      "0.4948063790798187\n",
      "0.49079036712646484\n",
      "0.48399466276168823\n",
      "0.4980366826057434\n",
      "0.4816998243331909\n",
      "0.4803653359413147\n",
      "0.4602850079536438\n",
      "0.4687895178794861\n",
      "0.46989554166793823\n",
      "0.4658624231815338\n",
      "0.4544019103050232\n",
      "0.4704696238040924\n",
      "0.45643964409828186\n",
      "0.4670080244541168\n",
      "0.47272270917892456\n",
      "0.4548579156398773\n",
      "0.4743040204048157\n",
      "0.48975735902786255\n",
      "0.4856790006160736\n",
      "0.4782274663448334\n",
      "0.4670535624027252\n",
      "0.4793689548969269\n",
      "0.4667949974536896\n",
      "0.47655969858169556\n",
      "0.47063592076301575\n",
      "0.46675679087638855\n",
      "0.47805529832839966\n",
      "0.4628548324108124\n",
      "0.48226603865623474\n",
      "0.46529340744018555\n",
      "0.4765494465827942\n",
      "0.4644692540168762\n",
      "0.470944881439209\n",
      "0.46456658840179443\n",
      "0.4788095951080322\n",
      "0.4750910699367523\n",
      "0.5065798759460449\n",
      "0.46945908665657043\n",
      "0.4804922044277191\n",
      "0.4803653061389923\n",
      "0.47917264699935913\n",
      "0.48916295170783997\n"
     ]
    }
   ],
   "source": [
    "deformation,losses,msg=deformation.get_deformation(ptfrom,ptto,sh=(256,160,16),k_cut_dimless=2.5,lr=0.1,iterations=200,lambda_div=1,scale=(1,1,1),at_least=4,device=\"cuda\",verbose=True,return_losses=True)"
   ]
  },
  {
   "cell_type": "code",
   "execution_count": 5,
   "id": "f8d4692f",
   "metadata": {},
   "outputs": [
    {
     "data": {
      "image/png": "[encoded data removed]",
      "text/plain": [
       "<Figure size 432x288 with 1 Axes>"
      ]
     },
     "metadata": {
      "needs_background": "light"
     },
     "output_type": "display_data"
    }
   ],
   "source": [
    "plt.plot(losses)\n",
    "plt.yscale(\"log\")"
   ]
  },
  {
   "cell_type": "code",
   "execution_count": 7,
   "id": "a4ac060a",
   "metadata": {},
   "outputs": [
    {
     "data": {
      "text/plain": [
       "device(type='cuda', index=0)"
      ]
     },
     "execution_count": 7,
     "metadata": {},
     "output_type": "execute_result"
    }
   ],
   "source": [
    "deformation.device"
   ]
  },
  {
   "cell_type": "code",
   "execution_count": null,
   "id": "7a848de6",
   "metadata": {},
   "outputs": [],
   "source": []
  },
  {
   "cell_type": "code",
   "execution_count": null,
   "id": "46196b2b",
   "metadata": {},
   "outputs": [],
   "source": []
  },
  {
   "cell_type": "code",
   "execution_count": null,
   "id": "1931befd",
   "metadata": {},
   "outputs": [],
   "source": []
  },
  {
   "cell_type": "code",
   "execution_count": 34,
   "id": "cef61691",
   "metadata": {},
   "outputs": [],
   "source": [
    "import scipy.spatial as sspat\n",
    "import numpy as np\n",
    "from src.Dataset import Dataset\n",
    "import scipy.interpolate as sintp"
   ]
  },
  {
   "cell_type": "code",
   "execution_count": null,
   "id": "f9b12f8d",
   "metadata": {},
   "outputs": [],
   "source": [
    "points=np.load(\"./points.npy\")\n",
    "#ts=np.arange(len(points))\n",
    "#f_intp=sintp.interp1d(ts,points,axis=0)\n",
    "#ts_=np.linspace(0,len(points)-1,2500)\n",
    "#points=f_intp(ts_)\n",
    "#points=points[:,:,[1,0,2]]"
   ]
  },
  {
   "cell_type": "code",
   "execution_count": null,
   "id": "6c559123",
   "metadata": {},
   "outputs": [],
   "source": [
    "dataset=Dataset(\"./data/mili1.h5\")\n",
    "dataset.open()\n",
    "dataset.set_data(\"points\",points[:,:,[1,0,2]],compression=None,overwrite=True)\n",
    "dataset.close()"
   ]
  },
  {
   "cell_type": "code",
   "execution_count": null,
   "id": "ebf2484e",
   "metadata": {},
   "outputs": [],
   "source": []
  },
  {
   "cell_type": "code",
   "execution_count": null,
   "id": "be295ee0",
   "metadata": {},
   "outputs": [],
   "source": [
    "import scipy.spatial as sspat\n",
    "import numpy as np\n",
    "\n",
    "def interpolate_points(points,t_ref=0):\n",
    "    \"\"\"\n",
    "    points (T,N+1,2) float32 : an array of coordinates for N points, np.nan where it doesn't exist, points[:,0] should be all nan\n",
    "    t_ref reference time\n",
    "    \n",
    "    returns\n",
    "    \n",
    "    ptss (T,N+1,2) float32 an array of coordinates like points where coordinates for nans are interpolated\n",
    "    \"\"\"\n",
    "    T=points.shape[0]\n",
    "    points_ref=points[t_ref,1:]\n",
    "    existing_ref=~np.isnan(points_ref[:,0])\n",
    "    distmat=sspat.distance.squareform(sspat.distance.pdist(points_ref))\n",
    "    np.fill_diagonal(distmat,np.nan)\n",
    "\n",
    "    ptss=np.full_like(points,np.nan)\n",
    "    for t in range(T):\n",
    "        existing=~np.isnan(points[t,1:,0])\n",
    "        if existing.sum()==0:\n",
    "            pass\n",
    "        todo=np.nonzero(~(existing*existing_ref))[0]\n",
    "        for i in todo:\n",
    "            validrefs=np.nonzero((~np.isnan(distmat[i]))*existing*existing_ref)[0]\n",
    "            if len(validrefs)==0:\n",
    "                continue\n",
    "            weights=(1/(distmat[i,validrefs]+epsilon))**2\n",
    "            vecs=points[t,validrefs+1,:2]-points_ref[validrefs,:2]\n",
    "            vec=(weights[:,None]*vecs).sum(0)/weights.sum()\n",
    "            ptss[t,1+i,:2]=points_ref[i]+vec\n",
    "    return ptss"
   ]
  },
  {
   "cell_type": "code",
   "execution_count": null,
   "id": "9d7bc721",
   "metadata": {},
   "outputs": [],
   "source": [
    "ptss=interpolate_points(points[:,:,:2],t_ref=0)"
   ]
  },
  {
   "cell_type": "code",
   "execution_count": null,
   "id": "bfb99db8",
   "metadata": {},
   "outputs": [],
   "source": [
    "ptss.shape"
   ]
  },
  {
   "cell_type": "code",
   "execution_count": null,
   "id": "ab520769",
   "metadata": {},
   "outputs": [],
   "source": []
  },
  {
   "cell_type": "code",
   "execution_count": null,
   "id": "c8d70293",
   "metadata": {},
   "outputs": [],
   "source": [
    "distmat=sspat.distance.squareform(sspat.distance.pdist(np.full((30,3),np.nan)))\n",
    "distmat.shape"
   ]
  },
  {
   "cell_type": "code",
   "execution_count": null,
   "id": "32134530",
   "metadata": {},
   "outputs": [],
   "source": []
  }
 ],
 "metadata": {
  "kernelspec": {
   "display_name": "Python 3",
   "language": "python",
   "name": "python3"
  },
  "language_info": {
   "codemirror_mode": {
    "name": "ipython",
    "version": 3
   },
   "file_extension": ".py",
   "mimetype": "text/x-python",
   "name": "python",
   "nbconvert_exporter": "python",
   "pygments_lexer": "ipython3",
   "version": "3.8.10"
  }
 },
 "nbformat": 4,
 "nbformat_minor": 5
}
