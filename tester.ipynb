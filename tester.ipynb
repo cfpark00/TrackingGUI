{
 "cells": [
  {
   "cell_type": "code",
   "execution_count": 87,
   "id": "25297484",
   "metadata": {},
   "outputs": [],
   "source": [
    "import scipy.spatial as sspat\n",
    "import numpy as np\n",
    "from src.Dataset import Dataset\n",
    "import scipy.interpolate as sintp\n",
    "from src.methods.neural_network_tools import Deformation\n",
    "import torch\n",
    "import matplotlib.pyplot as plt\n",
    "import scipy.ndimage as sim\n",
    "device=\"cuda\"\n",
    "import importlib"
   ]
  },
  {
   "cell_type": "code",
   "execution_count": 79,
   "id": "e63f2826",
   "metadata": {},
   "outputs": [],
   "source": [
    "dataset=Dataset(\"data/mili1-1.h5\")\n",
    "dataset.open()"
   ]
  },
  {
   "cell_type": "code",
   "execution_count": 73,
   "id": "26de26ca",
   "metadata": {},
   "outputs": [],
   "source": [
    "pts=np.array(np.load(\"data/points (1).npy\",allow_pickle=True))"
   ]
  },
  {
   "cell_type": "code",
   "execution_count": 74,
   "id": "bf24dec1",
   "metadata": {},
   "outputs": [],
   "source": [
    "points=dataset.get_points()\n",
    "points[0,7:,:2]=pts[0]\n",
    "points[1:,7:,:2]=np.nan\n",
    "points[0,7:,2]=0\n",
    "points[1:,7:,:2]=np.nan"
   ]
  },
  {
   "cell_type": "code",
   "execution_count": 75,
   "id": "e2be87cf",
   "metadata": {},
   "outputs": [],
   "source": [
    "dataset.set_points(points)"
   ]
  },
  {
   "cell_type": "code",
   "execution_count": 77,
   "id": "f6278826",
   "metadata": {},
   "outputs": [
    {
     "ename": "AssertionError",
     "evalue": "file not open",
     "output_type": "error",
     "traceback": [
      "\u001b[0;31m---------------------------------------------------------------------------\u001b[0m",
      "\u001b[0;31mAssertionError\u001b[0m                            Traceback (most recent call last)",
      "Input \u001b[0;32mIn [77]\u001b[0m, in \u001b[0;36m<cell line: 1>\u001b[0;34m()\u001b[0m\n\u001b[0;32m----> 1\u001b[0m \u001b[43mdataset\u001b[49m\u001b[38;5;241;43m.\u001b[39;49m\u001b[43mclose\u001b[49m\u001b[43m(\u001b[49m\u001b[43m)\u001b[49m\n",
      "File \u001b[0;32m~/TrackingGUI/src/Dataset.py:25\u001b[0m, in \u001b[0;36mDataset.close\u001b[0;34m(self)\u001b[0m\n\u001b[1;32m     24\u001b[0m \u001b[38;5;28;01mdef\u001b[39;00m \u001b[38;5;21mclose\u001b[39m(\u001b[38;5;28mself\u001b[39m):\n\u001b[0;32m---> 25\u001b[0m     \u001b[38;5;28;01massert\u001b[39;00m \u001b[38;5;28mself\u001b[39m\u001b[38;5;241m.\u001b[39mdata \u001b[38;5;129;01mis\u001b[39;00m \u001b[38;5;129;01mnot\u001b[39;00m \u001b[38;5;28;01mNone\u001b[39;00m, \u001b[38;5;124m\"\u001b[39m\u001b[38;5;124mfile not open\u001b[39m\u001b[38;5;124m\"\u001b[39m\n\u001b[1;32m     26\u001b[0m     \u001b[38;5;28;01mif\u001b[39;00m \u001b[38;5;28mself\u001b[39m\u001b[38;5;241m.\u001b[39msuffix\u001b[38;5;241m==\u001b[39m\u001b[38;5;124m\"\u001b[39m\u001b[38;5;124mh5\u001b[39m\u001b[38;5;124m\"\u001b[39m:\n\u001b[1;32m     27\u001b[0m         \u001b[38;5;28mself\u001b[39m\u001b[38;5;241m.\u001b[39mdata\u001b[38;5;241m.\u001b[39mclose()\n",
      "\u001b[0;31mAssertionError\u001b[0m: file not open"
     ]
    }
   ],
   "source": [
    "dataset.close()"
   ]
  },
  {
   "cell_type": "code",
   "execution_count": 80,
   "id": "5ac735a8",
   "metadata": {},
   "outputs": [],
   "source": [
    "points=dataset.get_points()"
   ]
  },
  {
   "cell_type": "code",
   "execution_count": 81,
   "id": "7792fd62",
   "metadata": {},
   "outputs": [],
   "source": [
    "np.save(\"points\",points[:,:7,:])"
   ]
  },
  {
   "cell_type": "code",
   "execution_count": null,
   "id": "c8043b95",
   "metadata": {},
   "outputs": [],
   "source": []
  },
  {
   "cell_type": "code",
   "execution_count": 83,
   "id": "3851aeeb",
   "metadata": {},
   "outputs": [
    {
     "data": {
      "text/plain": [
       "array([0.        , 0.00628319, 0.01256637, 0.01884956, 0.02513274,\n",
       "       0.03141593, 0.03769911, 0.0439823 , 0.05026548, 0.05654867,\n",
       "       0.06283185, 0.06911504, 0.07539822, 0.08168141, 0.08796459,\n",
       "       0.09424778, 0.10053096, 0.10681415, 0.11309734, 0.11938052,\n",
       "       0.12566371, 0.13194689, 0.13823008, 0.14451326, 0.15079645,\n",
       "       0.15707963, 0.16336282, 0.169646  , 0.17592919, 0.18221237,\n",
       "       0.18849556, 0.19477874, 0.20106193, 0.20734512, 0.2136283 ,\n",
       "       0.21991149, 0.22619467, 0.23247786, 0.23876104, 0.24504423,\n",
       "       0.25132741, 0.2576106 , 0.26389378, 0.27017697, 0.27646015,\n",
       "       0.28274334, 0.28902652, 0.29530971, 0.30159289, 0.30787608,\n",
       "       0.31415927, 0.32044245, 0.32672564, 0.33300882, 0.33929201,\n",
       "       0.34557519, 0.35185838, 0.35814156, 0.36442475, 0.37070793,\n",
       "       0.37699112, 0.3832743 , 0.38955749, 0.39584067, 0.40212386,\n",
       "       0.40840704, 0.41469023, 0.42097342, 0.4272566 , 0.43353979,\n",
       "       0.43982297, 0.44610616, 0.45238934, 0.45867253, 0.46495571,\n",
       "       0.4712389 , 0.47752208, 0.48380527, 0.49008845])"
      ]
     },
     "execution_count": 83,
     "metadata": {},
     "output_type": "execute_result"
    }
   ],
   "source": [
    "k_resol=2*np.pi/1000\n",
    "ks=np.arange(79)*k_resol\n",
    "ks"
   ]
  },
  {
   "cell_type": "code",
   "execution_count": 86,
   "id": "fb36f766",
   "metadata": {},
   "outputs": [
    {
     "data": {
      "text/plain": [
       "0.2827433388230814"
      ]
     },
     "execution_count": 86,
     "metadata": {},
     "output_type": "execute_result"
    }
   ],
   "source": [
    "45*k_resol"
   ]
  },
  {
   "cell_type": "code",
   "execution_count": null,
   "id": "65add5e9",
   "metadata": {},
   "outputs": [],
   "source": [
    "0.2<"
   ]
  },
  {
   "cell_type": "code",
   "execution_count": null,
   "id": "f1b118b9",
   "metadata": {},
   "outputs": [],
   "source": []
  },
  {
   "cell_type": "code",
   "execution_count": 42,
   "id": "26d2d96b",
   "metadata": {},
   "outputs": [],
   "source": [
    "dataset=Dataset(\"data/mili1-1.h5\")\n",
    "dataset.open()"
   ]
  },
  {
   "cell_type": "code",
   "execution_count": 43,
   "id": "0a76b17b",
   "metadata": {},
   "outputs": [],
   "source": [
    "m=np.inf\n",
    "M=-np.inf\n",
    "for i in range(dataset.get_data_info()[\"T\"]):\n",
    "    fr=dataset.get_frame(i)**0.5\n",
    "    m=min(np.min(fr),m)\n",
    "    M=max(np.max(fr),M)"
   ]
  },
  {
   "cell_type": "code",
   "execution_count": 44,
   "id": "104c4fe5",
   "metadata": {},
   "outputs": [],
   "source": [
    "for i in range(dataset.get_data_info()[\"T\"]):\n",
    "    fr=dataset.get_frame(i)**0.5\n",
    "    fr=np.clip(255*(fr-m)/(M-m),0,255).astype(np.uint8)\n",
    "    fr=dataset.set_frame(i,fr)"
   ]
  },
  {
   "cell_type": "code",
   "execution_count": 45,
   "id": "e2529bd0",
   "metadata": {},
   "outputs": [],
   "source": [
    "dataset.close()"
   ]
  },
  {
   "cell_type": "code",
   "execution_count": null,
   "id": "f15bd67b",
   "metadata": {},
   "outputs": [],
   "source": [
    "dataset=Dataset(\"data/mili1-1.h5\")\n",
    "dataset.open()"
   ]
  },
  {
   "cell_type": "code",
   "execution_count": null,
   "id": "56175edb",
   "metadata": {},
   "outputs": [],
   "source": []
  },
  {
   "cell_type": "code",
   "execution_count": null,
   "id": "027086ed",
   "metadata": {},
   "outputs": [],
   "source": []
  },
  {
   "cell_type": "code",
   "execution_count": null,
   "id": "f26f0946",
   "metadata": {},
   "outputs": [],
   "source": []
  },
  {
   "cell_type": "code",
   "execution_count": 175,
   "id": "67528e6e",
   "metadata": {},
   "outputs": [],
   "source": [
    "dataset=Dataset(\"data/184.h5\")\n",
    "dataset.open()\n",
    "data_info=dataset.get_data_info()\n",
    "points=dataset.get_points()\n",
    "N_points,T,C,W,H,D=data_info[\"N_points\"],data_info[\"T\"],data_info[\"C\"],data_info[\"W\"],data_info[\"H\"],data_info[\"D\"]\n",
    "sh=(W,H,D)\n",
    "grid=np.stack(np.meshgrid(np.arange(W),np.arange(H),np.arange(D),indexing=\"ij\"),axis=-1)\n",
    "grid=torch.tensor(grid,device=device)"
   ]
  },
  {
   "cell_type": "code",
   "execution_count": 176,
   "id": "ed27a4d0",
   "metadata": {
    "scrolled": true
   },
   "outputs": [
    {
     "data": {
      "text/plain": [
       "<matplotlib.collections.PathCollection at 0x7f1434504670>"
      ]
     },
     "execution_count": 176,
     "metadata": {},
     "output_type": "execute_result"
    },
    {
     "data": {
      "image/png": "[encoded data removed]",
      "text/plain": [
       "<Figure size 720x360 with 2 Axes>"
      ]
     },
     "metadata": {
      "needs_background": "light"
     },
     "output_type": "display_data"
    }
   ],
   "source": [
    "%matplotlib inline\n",
    "i1,i2=np.random.choice(T,2,replace=False)\n",
    "fr1=(dataset.get_frame(i1)/255).astype(np.float32)\n",
    "fr2=(dataset.get_frame(i2)/255).astype(np.float32)\n",
    "plt.figure(figsize=(10,5))\n",
    "plt.subplot(121)\n",
    "plt.imshow(fr1[0,:,:,:].max(2).T,origin=\"lower\")\n",
    "plt.scatter(*points[i1,:,:2].T,c=\"r\",s=3)\n",
    "plt.scatter(*points[i1,75,:2].T,c=\"w\",s=30)\n",
    "plt.subplot(122)\n",
    "plt.imshow(fr2[0,:,:,:].max(2).T,origin=\"lower\")\n",
    "plt.scatter(*points[i2,:,:2].T,c=\"r\",s=3)\n",
    "plt.scatter(*points[i2,75,:2].T,c=\"w\",s=30)"
   ]
  },
  {
   "cell_type": "code",
   "execution_count": 196,
   "id": "6eab523a",
   "metadata": {},
   "outputs": [],
   "source": [
    "def lip(deformation):\n",
    "    dx=torch.abs(deformation[0,1:]-deformation[0,:-1])\n",
    "    dy=torch.abs(deformation[1,:,1:]-deformation[1,:,:-1])\n",
    "    dz=torch.abs(deformation[2,:,:,1:]-deformation[2,:,:,:-1])\n",
    "    return torch.relu(dx-1).mean()+torch.relu(dy-1).mean()+torch.relu(dz-1).mean()\n",
    "\n",
    "def get_at_coords(image,coords):\n",
    "    C,W,H,D=image.shape\n",
    "    coords=coords[:,None,None,:].clone()\n",
    "    coords[...,0]/=(W-1)/2\n",
    "    coords[...,0]-=1\n",
    "    coords[...,1]/=(H-1)/2\n",
    "    coords[...,1]-=1\n",
    "    coords[...,2]/=(D-1)/2\n",
    "    coords[...,2]-=1\n",
    "    coords=coords[...,[2,1,0]]\n",
    "    res=torch.nn.functional.grid_sample(image[None],coords[None], mode='bilinear', padding_mode=\"zeros\",align_corners=True)[0]\n",
    "    return res[:,:,0,0].T\n",
    "\n",
    "def get_deformation_lowk2(ptfrom,ptto,sh,k_cut_dimless=2.5,lr=0.1,iterations=200,lambda_lip=100,scale=(1,1,1),at_least=5,device=\"cpu\",verbose=False,return_losses=False):\n",
    "    vecs=(ptfrom-ptto)\n",
    "    valids=np.nonzero(np.all(np.isnan(vecs)==0,axis=1))[0]\n",
    "    if len(valids)<at_least:\n",
    "        return None,\"Not enough points\"\n",
    "    vecs=vecs[valids][:,:]\n",
    "    locs=ptto[valids][:,:]\n",
    "    W,H,D=sh\n",
    "\n",
    "    f=Deformation.FourierLowK((W,H,D),k_cut_dimless=k_cut_dimless)\n",
    "\n",
    "    locs=torch.tensor(locs,dtype=torch.float32,device=device)\n",
    "    vecs=torch.tensor(vecs,dtype=torch.float32,device=device)\n",
    "\n",
    "    x=torch.zeros(1,3,f.dim)\n",
    "    #initialize the displacement field as the mean displacement\n",
    "    x[0,:,0]=vecs.mean(0)\n",
    "    x=x.to(device=device)\n",
    "    x=torch.nn.Parameter(x)\n",
    "    opt=torch.optim.Adam([x],lr=lr)\n",
    "    if return_losses:\n",
    "        losses=[]\n",
    "    for iters in range(iterations):\n",
    "        deformation=f(x)[0]\n",
    "        vecs_sampled=get_at_coords(deformation,locs)\n",
    "        loss=torch.nn.functional.l1_loss(vecs_sampled,vecs)\n",
    "        lip_loss=lip(deformation)\n",
    "        loss+=lambda_lip*lip_loss\n",
    "        opt.zero_grad()\n",
    "        loss.backward()\n",
    "        opt.step()\n",
    "        if return_losses:\n",
    "            losses.append(loss.item())\n",
    "        if verbose:\n",
    "            print(loss.item())\n",
    "    if return_losses:\n",
    "        return deformation[0],losses,\"success\"\n",
    "    return deformation[0],\"success\"\n",
    "\n",
    "def get_deformation_lowk(ptfrom,ptto,sh,k_cut_dimless=2.5,lr=0.1,iterations=200,lambda_div=1,scale=(1,1,1),at_least=5,device=\"cpu\",verbose=False,return_losses=False):\n",
    "    vecs=(ptto-ptfrom)\n",
    "    valids=np.nonzero(np.all(np.isnan(vecs)==0,axis=1))[0]\n",
    "    if len(valids)<at_least:\n",
    "        return None,\"Not enough points\"\n",
    "    vecs=vecs[valids][:,:]\n",
    "    locs=ptfrom[valids][:,:]\n",
    "    W,H,D=sh\n",
    "\n",
    "    f=Deformation.FourierLowK((W,H,D),k_cut_dimless=k_cut_dimless)\n",
    "\n",
    "    locs_gridded=2*(torch.tensor(locs)[:,None,None,None,:]/(np.array([W,H,D])[None,None,None,None,:]-1))-1#MB: I rhink with None we add unit axis\n",
    "    locs_gridded=locs_gridded[...,[2,1,0]].to(device=device,dtype=torch.float32)\n",
    "    vecs_target=torch.tensor(vecs).to(device=device,dtype=torch.float32)\n",
    "\n",
    "    x=torch.zeros(1,3,f.dim)\n",
    "    #initialize the displacement field as the mean displacement\n",
    "    x[0,:,0]=torch.tensor(np.mean(vecs,axis=0))\n",
    "    x=x.to(device=device)\n",
    "    x=torch.nn.Parameter(x)\n",
    "    opt=torch.optim.Adam([x],lr=lr)\n",
    "    if return_losses:\n",
    "        losses=[]\n",
    "    for iters in range(iterations):\n",
    "        deformation=f(x)\n",
    "        #deformation=torch.mean(deformation,dim=4,keepdim=True).repeat(1,1,1,1,deformation.size(4))#mean over z axis\n",
    "        vecs_sampled=torch.nn.functional.grid_sample(deformation.repeat(locs_gridded.size(0),1,1,1,1),locs_gridded, mode='bilinear', padding_mode='border',align_corners=True)[:,:,0,0,0]\n",
    "        loss=torch.nn.functional.l1_loss(vecs_sampled,vecs_target)#this is where the points that are mapped to each other are included\n",
    "        gx=deformation[:,0,2:,1:-1,1:-1]-deformation[:,0,:-2,1:-1,1:-1]#how far is each pixel from the previous one in the direction of x\n",
    "        gy=deformation[:,1,1:-1,2:,1:-1]-deformation[:,1,1:-1,:-2,1:-1]\n",
    "        gz=deformation[:,2,1:-1,1:-1,2:]-deformation[:,2,1:-1,1:-1,:-2]\n",
    "        divergence=scale[0]*gx+scale[1]*gy+scale[2]*gz\n",
    "        loss+=lambda_div*torch.mean(torch.abs(divergence))\n",
    "        #print(f.kgrid.shape)\n",
    "        opt.zero_grad()\n",
    "        loss.backward()\n",
    "        opt.step()\n",
    "        if return_losses:\n",
    "            losses.append(loss.item())\n",
    "        if verbose:\n",
    "            print(loss.item())\n",
    "    if return_losses:\n",
    "        return deformation[0],losses,\"success\"\n",
    "    return deformation[0],\"success\""
   ]
  },
  {
   "cell_type": "code",
   "execution_count": 236,
   "id": "636158a9",
   "metadata": {
    "scrolled": true
   },
   "outputs": [
    {
     "data": {
      "text/plain": [
       "'success'"
      ]
     },
     "execution_count": 236,
     "metadata": {},
     "output_type": "execute_result"
    }
   ],
   "source": [
    "deformation,losses,msg=get_deformation_lowk(points[i2],points[i1],sh,k_cut_dimless=1,lr=0.1,iterations=400,lambda_div=1,scale=(1,1,4),at_least=5,device=device,verbose=False,return_losses=True)\n",
    "msg"
   ]
  },
  {
   "cell_type": "code",
   "execution_count": 237,
   "id": "5602491a",
   "metadata": {},
   "outputs": [
    {
     "data": {
      "image/png": "[encoded data removed]",
      "text/plain": [
       "<Figure size 432x288 with 1 Axes>"
      ]
     },
     "metadata": {
      "needs_background": "light"
     },
     "output_type": "display_data"
    }
   ],
   "source": [
    "plt.plot(losses)\n",
    "plt.yscale(\"log\")"
   ]
  },
  {
   "cell_type": "code",
   "execution_count": 171,
   "id": "6739f014",
   "metadata": {},
   "outputs": [
    {
     "data": {
      "text/plain": [
       "<module 'src.methods.neural_network_tools.Deformation' from '/home/cfpark00/TrackingGUI/src/methods/neural_network_tools/Deformation.py'>"
      ]
     },
     "execution_count": 171,
     "metadata": {},
     "output_type": "execute_result"
    }
   ],
   "source": [
    "importlib.reload(Deformation)"
   ]
  },
  {
   "cell_type": "code",
   "execution_count": 119,
   "id": "b05b468a",
   "metadata": {
    "scrolled": true
   },
   "outputs": [
    {
     "data": {
      "text/plain": [
       "'success'"
      ]
     },
     "execution_count": 119,
     "metadata": {},
     "output_type": "execute_result"
    }
   ],
   "source": [
    "#deformation,msg=Deformation.get_deformation_tps(points[i2],points[i1],grid,scale=data_info[\"pixel_scale\"],device=device)\n",
    "#msg"
   ]
  },
  {
   "cell_type": "code",
   "execution_count": 387,
   "id": "5e1aedda",
   "metadata": {},
   "outputs": [],
   "source": [
    "#inv_deformation=Deformation.invert_deformation(deformation,n_iter=10)"
   ]
  },
  {
   "cell_type": "code",
   "execution_count": 351,
   "id": "2239114d",
   "metadata": {},
   "outputs": [],
   "source": [
    "#inv_deformation=inv_deformation.mean(3)[:,:,:,None]\n",
    "#inv_deformation[2]=0"
   ]
  },
  {
   "cell_type": "code",
   "execution_count": 225,
   "id": "d095e7a7",
   "metadata": {},
   "outputs": [],
   "source": [
    "deformation[:,:,:,:]=deformation[:,:,:,:].mean(3,keepdim=True)"
   ]
  },
  {
   "cell_type": "code",
   "execution_count": 238,
   "id": "58e8cbe9",
   "metadata": {},
   "outputs": [],
   "source": [
    "deformation/=5"
   ]
  },
  {
   "cell_type": "code",
   "execution_count": 239,
   "id": "6e389989",
   "metadata": {
    "scrolled": false
   },
   "outputs": [],
   "source": [
    "res=Deformation.deform(torch.tensor(fr1,device=device),deformation,mask=None)\n",
    "res=res.cpu().detach().numpy()"
   ]
  },
  {
   "cell_type": "code",
   "execution_count": 240,
   "id": "c6102a73",
   "metadata": {
    "scrolled": true
   },
   "outputs": [
    {
     "data": {
      "text/plain": [
       "<matplotlib.colorbar.Colorbar at 0x7f13cb69d7f0>"
      ]
     },
     "execution_count": 240,
     "metadata": {},
     "output_type": "execute_result"
    },
    {
     "data": {
      "image/png": "[encoded data removed]",
      "text/plain": [
       "<Figure size 1440x576 with 6 Axes>"
      ]
     },
     "metadata": {
      "needs_background": "light"
     },
     "output_type": "display_data"
    }
   ],
   "source": [
    "plt.figure(figsize=(20,8))\n",
    "plt.subplot(221)\n",
    "plt.imshow(fr1[0,:,:,:].max(2).T**0.5,origin=\"lower\")\n",
    "plt.scatter(*points[i1,75,:2].T,c=\"w\",s=30)\n",
    "plt.colorbar()\n",
    "plt.subplot(222)\n",
    "plt.imshow(fr2[0,:,:,:].max(2).T**0.5,origin=\"lower\")\n",
    "plt.scatter(*points[i2,75,:2].T,c=\"w\",s=30)\n",
    "plt.colorbar()\n",
    "plt.subplot(223)\n",
    "plt.imshow(res[0,:,:,:].max(2).T**0.5,origin=\"lower\")\n",
    "plt.scatter(*points[i2,75,:2].T,c=\"w\",s=30)\n",
    "plt.scatter(*points[i1,75,:2].T,c=\"w\",s=30)\n",
    "plt.colorbar()\n",
    "#plt.subplot(223)\n",
    "#plt.imshow(np.abs(res[0,:,:,:]-fr1[0,:,:,:]).max(2).T,origin=\"lower\")\n",
    "#plt.colorbar()"
   ]
  },
  {
   "cell_type": "code",
   "execution_count": 388,
   "id": "f42e374c",
   "metadata": {},
   "outputs": [],
   "source": [
    "res=Deformation.deform(torch.tensor(fr1,device=device),-inv_deformation,mask=None)\n",
    "res=res.cpu().detach().numpy()"
   ]
  },
  {
   "cell_type": "code",
   "execution_count": null,
   "id": "33b0503c",
   "metadata": {},
   "outputs": [],
   "source": []
  },
  {
   "cell_type": "code",
   "execution_count": null,
   "id": "e2a3c85a",
   "metadata": {},
   "outputs": [],
   "source": []
  },
  {
   "cell_type": "code",
   "execution_count": 152,
   "id": "753560a2",
   "metadata": {},
   "outputs": [
    {
     "data": {
      "text/plain": [
       "(array([  61,  604, 1159, 1222, 1578, 1625, 1960, 2043, 2106, 2254, 2358,\n",
       "        2443, 2477, 2518, 2653]),)"
      ]
     },
     "execution_count": 152,
     "metadata": {},
     "output_type": "execute_result"
    }
   ],
   "source": [
    "np.nonzero(~inds)"
   ]
  },
  {
   "cell_type": "code",
   "execution_count": 273,
   "id": "637475ab",
   "metadata": {},
   "outputs": [],
   "source": [
    "import torch\n",
    "im=torch.load(\"./data/data_temp/153-3GT2/TA/frames/2035.pt\")\n",
    "mask=torch.load(\"./data/data_temp/153-3GT2/TA/masks/2035.pt\")"
   ]
  },
  {
   "cell_type": "code",
   "execution_count": 274,
   "id": "ffb1b27f",
   "metadata": {},
   "outputs": [
    {
     "data": {
      "text/plain": [
       "<matplotlib.image.AxesImage at 0x7f13baac4f10>"
      ]
     },
     "execution_count": 274,
     "metadata": {},
     "output_type": "execute_result"
    },
    {
     "data": {
      "image/png": "[encoded data removed]",
      "text/plain": [
       "<Figure size 432x288 with 2 Axes>"
      ]
     },
     "metadata": {
      "needs_background": "light"
     },
     "output_type": "display_data"
    }
   ],
   "source": [
    "plt.figure()\n",
    "plt.subplot(121)\n",
    "plt.imshow(im[0].max(2)[0].T)\n",
    "plt.subplot(122)\n",
    "plt.imshow(mask.max(2)[0].T)"
   ]
  },
  {
   "cell_type": "code",
   "execution_count": 275,
   "id": "89ec96d9",
   "metadata": {},
   "outputs": [],
   "source": [
    "im=torch.load(\"./data/data_temp/153-3GT2/TA/frames/2035.pt\")\n",
    "mask=torch.load(\"./data/data_temp/153-3GT2/TA/masks/2035.pt\")"
   ]
  },
  {
   "cell_type": "code",
   "execution_count": 276,
   "id": "d8169345",
   "metadata": {},
   "outputs": [
    {
     "data": {
      "text/plain": [
       "<matplotlib.image.AxesImage at 0x7f13baa4fb80>"
      ]
     },
     "execution_count": 276,
     "metadata": {},
     "output_type": "execute_result"
    },
    {
     "data": {
      "image/png": "[encoded data removed]",
      "text/plain": [
       "<Figure size 432x288 with 2 Axes>"
      ]
     },
     "metadata": {
      "needs_background": "light"
     },
     "output_type": "display_data"
    }
   ],
   "source": [
    "plt.figure()\n",
    "plt.subplot(121)\n",
    "plt.imshow(im[0].max(2)[0].T)\n",
    "plt.subplot(122)\n",
    "plt.imshow(mask.max(2)[0].T)"
   ]
  },
  {
   "cell_type": "code",
   "execution_count": null,
   "id": "b66aae8b",
   "metadata": {},
   "outputs": [],
   "source": []
  },
  {
   "cell_type": "code",
   "execution_count": 249,
   "id": "4e693f28",
   "metadata": {},
   "outputs": [],
   "source": [
    "dataset.close()"
   ]
  },
  {
   "cell_type": "code",
   "execution_count": null,
   "id": "f02ca362",
   "metadata": {},
   "outputs": [],
   "source": []
  },
  {
   "cell_type": "code",
   "execution_count": null,
   "id": "e7fe43a3",
   "metadata": {},
   "outputs": [],
   "source": []
  },
  {
   "cell_type": "code",
   "execution_count": null,
   "id": "649a66ce",
   "metadata": {},
   "outputs": [],
   "source": [
    "plt.scatter(*points[i1,75,:2].T,c=\"w\",s=30)"
   ]
  },
  {
   "cell_type": "code",
   "execution_count": 184,
   "id": "19261788",
   "metadata": {
    "scrolled": true
   },
   "outputs": [
    {
     "data": {
      "text/plain": [
       "<matplotlib.colorbar.Colorbar at 0x7fd5a524e040>"
      ]
     },
     "execution_count": 184,
     "metadata": {},
     "output_type": "execute_result"
    },
    {
     "data": {
      "image/png": "[encoded data removed]",
      "text/plain": [
       "<Figure size 432x288 with 2 Axes>"
      ]
     },
     "metadata": {
      "needs_background": "light"
     },
     "output_type": "display_data"
    }
   ],
   "source": [
    "plt.imshow(deformation[1,:,:,9].cpu().detach().numpy().T,origin=\"lower\")\n",
    "plt.colorbar()"
   ]
  },
  {
   "cell_type": "code",
   "execution_count": 135,
   "id": "3b6c486e",
   "metadata": {},
   "outputs": [],
   "source": [
    "fol=\"data/data_temp/184-15GT2/TA/masks/\"\n",
    "import glob\n",
    "import os\n",
    "inds=[int(os.path.split(fp)[1].split(\".\")[0]) for fp in glob.glob(fol+\"*\")]"
   ]
  },
  {
   "cell_type": "code",
   "execution_count": 136,
   "id": "05e5630d",
   "metadata": {},
   "outputs": [
    {
     "data": {
      "text/plain": [
       "[1030,\n",
       " 1062,\n",
       " 1541,\n",
       " 2551,\n",
       " 2721,\n",
       " 2602,\n",
       " 2084,\n",
       " 1207,\n",
       " 2447,\n",
       " 893,\n",
       " 526,\n",
       " 2498,\n",
       " 2256,\n",
       " 998,\n",
       " 647,\n",
       " 2664,\n",
       " 1325,\n",
       " 2377,\n",
       " 985,\n",
       " 1213,\n",
       " 2667,\n",
       " 676,\n",
       " 1404,\n",
       " 2882,\n",
       " 557,\n",
       " 2833,\n",
       " 1880,\n",
       " 1128,\n",
       " 1275,\n",
       " 2061,\n",
       " 424,\n",
       " 754,\n",
       " 1,\n",
       " 2574,\n",
       " 306,\n",
       " 1259,\n",
       " 421,\n",
       " 372,\n",
       " 129,\n",
       " 1391,\n",
       " 2435,\n",
       " 509,\n",
       " 788,\n",
       " 408,\n",
       " 2843,\n",
       " 1581,\n",
       " 2309,\n",
       " 894,\n",
       " 849,\n",
       " 1406,\n",
       " 1494,\n",
       " 697,\n",
       " 1297,\n",
       " 497,\n",
       " 972,\n",
       " 2566,\n",
       " 114,\n",
       " 422,\n",
       " 621,\n",
       " 1019,\n",
       " 2573,\n",
       " 1887,\n",
       " 537,\n",
       " 944,\n",
       " 2445,\n",
       " 1679,\n",
       " 1465,\n",
       " 2703,\n",
       " 1248,\n",
       " 2080,\n",
       " 854,\n",
       " 317,\n",
       " 2845,\n",
       " 195,\n",
       " 1706,\n",
       " 1643,\n",
       " 701,\n",
       " 2538,\n",
       " 1063,\n",
       " 1055,\n",
       " 2081,\n",
       " 1475,\n",
       " 1677,\n",
       " 2782,\n",
       " 194,\n",
       " 12,\n",
       " 2376,\n",
       " 872,\n",
       " 673,\n",
       " 1048,\n",
       " 2751,\n",
       " 2176,\n",
       " 288,\n",
       " 2011,\n",
       " 2095,\n",
       " 2577,\n",
       " 2251,\n",
       " 376,\n",
       " 2822,\n",
       " 1429,\n",
       " 2391,\n",
       " 1155,\n",
       " 1188,\n",
       " 1768,\n",
       " 2920,\n",
       " 536,\n",
       " 360,\n",
       " 1131,\n",
       " 64,\n",
       " 2312,\n",
       " 2530,\n",
       " 1727,\n",
       " 2382,\n",
       " 855,\n",
       " 110,\n",
       " 301,\n",
       " 2657,\n",
       " 507,\n",
       " 432,\n",
       " 2749,\n",
       " 1789,\n",
       " 1438,\n",
       " 1290,\n",
       " 2427,\n",
       " 2798,\n",
       " 2139,\n",
       " 2579,\n",
       " 1720,\n",
       " 1892,\n",
       " 1263,\n",
       " 197,\n",
       " 530,\n",
       " 1049,\n",
       " 782,\n",
       " 2480,\n",
       " 1561,\n",
       " 2489,\n",
       " 2802,\n",
       " 1660,\n",
       " 542,\n",
       " 2907,\n",
       " 1697,\n",
       " 585,\n",
       " 2557,\n",
       " 1333,\n",
       " 1666,\n",
       " 1536,\n",
       " 206,\n",
       " 2398,\n",
       " 1246,\n",
       " 2618,\n",
       " 22,\n",
       " 555,\n",
       " 1223,\n",
       " 1945,\n",
       " 413,\n",
       " 1135,\n",
       " 241,\n",
       " 703,\n",
       " 2171,\n",
       " 1839,\n",
       " 1629,\n",
       " 929,\n",
       " 2532,\n",
       " 1634,\n",
       " 758,\n",
       " 1648,\n",
       " 1162,\n",
       " 1719,\n",
       " 1750,\n",
       " 236,\n",
       " 2290,\n",
       " 2673,\n",
       " 2464,\n",
       " 2525,\n",
       " 653,\n",
       " 477,\n",
       " 2393,\n",
       " 2857,\n",
       " 848,\n",
       " 434,\n",
       " 1509,\n",
       " 877,\n",
       " 1926,\n",
       " 1064,\n",
       " 92,\n",
       " 65,\n",
       " 748,\n",
       " 1044,\n",
       " 186,\n",
       " 992,\n",
       " 529,\n",
       " 2796,\n",
       " 2499,\n",
       " 2146,\n",
       " 428,\n",
       " 1774,\n",
       " 1010,\n",
       " 181,\n",
       " 1455,\n",
       " 600,\n",
       " 2529,\n",
       " 187,\n",
       " 442,\n",
       " 495,\n",
       " 2402,\n",
       " 2519,\n",
       " 1374,\n",
       " 52,\n",
       " 119,\n",
       " 2852,\n",
       " 1531,\n",
       " 2389,\n",
       " 2570,\n",
       " 2247,\n",
       " 2800,\n",
       " 2816,\n",
       " 1250,\n",
       " 2497,\n",
       " 716,\n",
       " 2477,\n",
       " 172,\n",
       " 656,\n",
       " 863,\n",
       " 1540,\n",
       " 2969,\n",
       " 692,\n",
       " 1338,\n",
       " 374,\n",
       " 271,\n",
       " 1932,\n",
       " 2385,\n",
       " 29,\n",
       " 922,\n",
       " 1695,\n",
       " 504,\n",
       " 1450,\n",
       " 322,\n",
       " 1197,\n",
       " 388,\n",
       " 823,\n",
       " 658,\n",
       " 2404,\n",
       " 2149,\n",
       " 1474,\n",
       " 2508,\n",
       " 528,\n",
       " 1688,\n",
       " 2746,\n",
       " 1183,\n",
       " 1152,\n",
       " 602,\n",
       " 1302,\n",
       " 120,\n",
       " 259,\n",
       " 1332,\n",
       " 762,\n",
       " 1296,\n",
       " 159,\n",
       " 1371,\n",
       " 1981,\n",
       " 2151,\n",
       " 974,\n",
       " 1379,\n",
       " 588,\n",
       " 2607,\n",
       " 2169,\n",
       " 321,\n",
       " 1407,\n",
       " 2515,\n",
       " 1628,\n",
       " 1387,\n",
       " 2604,\n",
       " 2046,\n",
       " 2853,\n",
       " 514,\n",
       " 1015,\n",
       " 862,\n",
       " 2252,\n",
       " 2622,\n",
       " 1036,\n",
       " 589,\n",
       " 2430,\n",
       " 2443,\n",
       " 2750,\n",
       " 2501,\n",
       " 2948,\n",
       " 248,\n",
       " 1876,\n",
       " 712,\n",
       " 1419,\n",
       " 90,\n",
       " 1164,\n",
       " 2005,\n",
       " 1053,\n",
       " 2683,\n",
       " 2072,\n",
       " 1127,\n",
       " 938,\n",
       " 690,\n",
       " 2891,\n",
       " 1613,\n",
       " 496,\n",
       " 677,\n",
       " 1604,\n",
       " 1513,\n",
       " 82,\n",
       " 534,\n",
       " 2589,\n",
       " 2837,\n",
       " 2201,\n",
       " 1294,\n",
       " 960,\n",
       " 961,\n",
       " 2726,\n",
       " 135,\n",
       " 2135,\n",
       " 2214,\n",
       " 1664,\n",
       " 874,\n",
       " 1718,\n",
       " 541,\n",
       " 204,\n",
       " 2527,\n",
       " 2434,\n",
       " 1953,\n",
       " 2191,\n",
       " 1403,\n",
       " 2795,\n",
       " 1865,\n",
       " 2670,\n",
       " 805,\n",
       " 233,\n",
       " 407,\n",
       " 905,\n",
       " 1270,\n",
       " 1179,\n",
       " 2193,\n",
       " 108,\n",
       " 1942,\n",
       " 2134,\n",
       " 1133,\n",
       " 2288,\n",
       " 1388,\n",
       " 2671,\n",
       " 2212,\n",
       " 203,\n",
       " 192,\n",
       " 2370,\n",
       " 717,\n",
       " 946,\n",
       " 382,\n",
       " 2292,\n",
       " 2957,\n",
       " 996,\n",
       " 307,\n",
       " 1330,\n",
       " 2137,\n",
       " 2242,\n",
       " 255,\n",
       " 277,\n",
       " 1527,\n",
       " 904,\n",
       " 895,\n",
       " 2859,\n",
       " 766,\n",
       " 2491,\n",
       " 2204,\n",
       " 722,\n",
       " 1014,\n",
       " 2424,\n",
       " 1950,\n",
       " 1505,\n",
       " 2771,\n",
       " 263,\n",
       " 350,\n",
       " 2585,\n",
       " 1439,\n",
       " 2943,\n",
       " 601,\n",
       " 2320,\n",
       " 2002,\n",
       " 340,\n",
       " 1351,\n",
       " 2310,\n",
       " 2994,\n",
       " 1447,\n",
       " 1745,\n",
       " 518,\n",
       " 1174,\n",
       " 620,\n",
       " 2911,\n",
       " 1322,\n",
       " 60,\n",
       " 2760,\n",
       " 2921,\n",
       " 906,\n",
       " 1603,\n",
       " 2282,\n",
       " 1335,\n",
       " 2222,\n",
       " 1573,\n",
       " 958,\n",
       " 79,\n",
       " 1916,\n",
       " 1814,\n",
       " 1425,\n",
       " 1885,\n",
       " 1744,\n",
       " 1251,\n",
       " 1212,\n",
       " 909,\n",
       " 1681,\n",
       " 2405,\n",
       " 2156,\n",
       " 1318,\n",
       " 2220,\n",
       " 245,\n",
       " 1909,\n",
       " 2738,\n",
       " 1593,\n",
       " 2041,\n",
       " 2892,\n",
       " 2223,\n",
       " 1654,\n",
       " 2030,\n",
       " 2089,\n",
       " 1145,\n",
       " 1592,\n",
       " 386,\n",
       " 2905,\n",
       " 517,\n",
       " 1775,\n",
       " 1529,\n",
       " 2144,\n",
       " 1738,\n",
       " 410,\n",
       " 1186,\n",
       " 2308,\n",
       " 1484,\n",
       " 1467,\n",
       " 1978,\n",
       " 2652,\n",
       " 333,\n",
       " 1226,\n",
       " 795,\n",
       " 2153,\n",
       " 1992,\n",
       " 272,\n",
       " 161,\n",
       " 566,\n",
       " 545,\n",
       " 165,\n",
       " 57,\n",
       " 2336,\n",
       " 2759,\n",
       " 2150,\n",
       " 2236,\n",
       " 2748,\n",
       " 923,\n",
       " 2974,\n",
       " 0,\n",
       " 2632,\n",
       " 982,\n",
       " 726,\n",
       " 1364,\n",
       " 2785,\n",
       " 603,\n",
       " 70,\n",
       " 591,\n",
       " 1743,\n",
       " 1347,\n",
       " 608,\n",
       " 2077,\n",
       " 1285,\n",
       " 243,\n",
       " 95,\n",
       " 2014,\n",
       " 2717,\n",
       " 1860,\n",
       " 2458,\n",
       " 997,\n",
       " 419,\n",
       " 2439,\n",
       " 819,\n",
       " 2173,\n",
       " 318,\n",
       " 1468,\n",
       " 2783,\n",
       " 180,\n",
       " 362,\n",
       " 1692,\n",
       " 214,\n",
       " 2895,\n",
       " 2908,\n",
       " 269,\n",
       " 441,\n",
       " 1279,\n",
       " 2313,\n",
       " 1401,\n",
       " 2189,\n",
       " 1532,\n",
       " 2111,\n",
       " 725,\n",
       " 544,\n",
       " 2781,\n",
       " 869,\n",
       " 753,\n",
       " 2617,\n",
       " 109,\n",
       " 2056,\n",
       " 283,\n",
       " 2858,\n",
       " 2812,\n",
       " 778,\n",
       " 2131,\n",
       " 417,\n",
       " 2481,\n",
       " 1871,\n",
       " 2128,\n",
       " 2248,\n",
       " 2805,\n",
       " 1702,\n",
       " 827,\n",
       " 215,\n",
       " 1651,\n",
       " 808,\n",
       " 2269,\n",
       " 240,\n",
       " 834,\n",
       " 345,\n",
       " 583,\n",
       " 2142,\n",
       " 117,\n",
       " 2124,\n",
       " 2152,\n",
       " 1200,\n",
       " 1787,\n",
       " 2161,\n",
       " 55,\n",
       " 822,\n",
       " 2286,\n",
       " 777,\n",
       " 78,\n",
       " 158,\n",
       " 1319,\n",
       " 1801,\n",
       " 2685,\n",
       " 1842,\n",
       " 2758,\n",
       " 2518,\n",
       " 928,\n",
       " 1869,\n",
       " 1797,\n",
       " 1267,\n",
       " 645,\n",
       " 1357,\n",
       " 2138,\n",
       " 1111,\n",
       " 1415,\n",
       " 1948,\n",
       " 72,\n",
       " 2275,\n",
       " 1522,\n",
       " 1148,\n",
       " 1633,\n",
       " 1696,\n",
       " 1858,\n",
       " 2079,\n",
       " 308,\n",
       " 991,\n",
       " 2826,\n",
       " 2013,\n",
       " 1606,\n",
       " 2912,\n",
       " 613,\n",
       " 415,\n",
       " 2107,\n",
       " 1996,\n",
       " 5,\n",
       " 174,\n",
       " 1352,\n",
       " 2676,\n",
       " 2559,\n",
       " 2167,\n",
       " 552,\n",
       " 381,\n",
       " 2343,\n",
       " 2668,\n",
       " 2053,\n",
       " 533,\n",
       " 423,\n",
       " 101,\n",
       " 2277,\n",
       " 58,\n",
       " 23,\n",
       " 2581,\n",
       " 1566,\n",
       " 2437,\n",
       " 1769,\n",
       " 751,\n",
       " 312,\n",
       " 98,\n",
       " 2322,\n",
       " 1483,\n",
       " 479,\n",
       " 1184,\n",
       " 2698,\n",
       " 1480,\n",
       " 2722,\n",
       " 2262,\n",
       " 999,\n",
       " 1741,\n",
       " 1473,\n",
       " 1952,\n",
       " 1405,\n",
       " 932,\n",
       " 1123,\n",
       " 912,\n",
       " 940,\n",
       " 2766,\n",
       " 962,\n",
       " 2086,\n",
       " 1034,\n",
       " 578,\n",
       " 2258,\n",
       " 1518,\n",
       " 619,\n",
       " 1195,\n",
       " 951,\n",
       " 166,\n",
       " 554,\n",
       " 199,\n",
       " 714,\n",
       " 258,\n",
       " 2945,\n",
       " 446,\n",
       " 2509,\n",
       " 2630,\n",
       " 2190,\n",
       " 1974,\n",
       " 2720,\n",
       " 1687,\n",
       " 1457,\n",
       " 574,\n",
       " 257,\n",
       " 1733,\n",
       " 1149,\n",
       " 229,\n",
       " 331,\n",
       " 832,\n",
       " 1139,\n",
       " 2387,\n",
       " 2803,\n",
       " 1919,\n",
       " 1973,\n",
       " 2147,\n",
       " 1191,\n",
       " 1196,\n",
       " 1553,\n",
       " 1822,\n",
       " 1454,\n",
       " 1384,\n",
       " 2130,\n",
       " 2888,\n",
       " 567,\n",
       " 35,\n",
       " 2340,\n",
       " 797,\n",
       " 1781,\n",
       " 761,\n",
       " 2114,\n",
       " 2918,\n",
       " 2145,\n",
       " 1442,\n",
       " 1575,\n",
       " 516,\n",
       " 705,\n",
       " 2154,\n",
       " 2648,\n",
       " 1046,\n",
       " 1252,\n",
       " 278,\n",
       " 1274,\n",
       " 2909,\n",
       " 1616,\n",
       " 1077,\n",
       " 252,\n",
       " 1600,\n",
       " 1610,\n",
       " 2981,\n",
       " 2983,\n",
       " 337,\n",
       " 2506,\n",
       " 335,\n",
       " 313,\n",
       " 2547,\n",
       " 225,\n",
       " 1083,\n",
       " 1773,\n",
       " 1710,\n",
       " 967,\n",
       " 1272,\n",
       " 1998,\n",
       " 1516,\n",
       " 2851,\n",
       " 355,\n",
       " 2112,\n",
       " 160,\n",
       " 2830,\n",
       " 1236,\n",
       " 1009,\n",
       " 1525,\n",
       " 948,\n",
       " 286,\n",
       " 377,\n",
       " 926,\n",
       " 1254,\n",
       " 675,\n",
       " 1157,\n",
       " 1092,\n",
       " 351,\n",
       " 1995,\n",
       " 2180,\n",
       " 1577,\n",
       " 1258,\n",
       " 2119,\n",
       " 2924,\n",
       " 2651,\n",
       " 196,\n",
       " 2474,\n",
       " 1255,\n",
       " 1124,\n",
       " 456,\n",
       " 597,\n",
       " 689,\n",
       " 325,\n",
       " 2266,\n",
       " 731,\n",
       " 2897,\n",
       " 2554,\n",
       " 2808,\n",
       " 193,\n",
       " 1782,\n",
       " 2901,\n",
       " 1312,\n",
       " 2413,\n",
       " 2744,\n",
       " 1121,\n",
       " 302,\n",
       " 1746,\n",
       " 1299,\n",
       " 1305,\n",
       " 2666,\n",
       " 1671,\n",
       " 957,\n",
       " 2739,\n",
       " 1717,\n",
       " 1039,\n",
       " 2849,\n",
       " 1500,\n",
       " 316,\n",
       " 416,\n",
       " 2733,\n",
       " 411,\n",
       " 977,\n",
       " 1708,\n",
       " 2348,\n",
       " 1538,\n",
       " 2565,\n",
       " 2521,\n",
       " 1767,\n",
       " 616,\n",
       " 2696,\n",
       " 2029,\n",
       " 10,\n",
       " 2661,\n",
       " 2963,\n",
       " 660,\n",
       " 218,\n",
       " 170,\n",
       " 2409,\n",
       " 2101,\n",
       " 2752,\n",
       " 1378,\n",
       " 1526,\n",
       " 1482,\n",
       " 792,\n",
       " 783,\n",
       " 927,\n",
       " 546,\n",
       " 369,\n",
       " 1114,\n",
       " 650,\n",
       " 1624,\n",
       " 448,\n",
       " 315,\n",
       " 614,\n",
       " 628,\n",
       " 1563,\n",
       " 976,\n",
       " 503,\n",
       " 2378,\n",
       " 1512,\n",
       " 629,\n",
       " 1784,\n",
       " 1763,\n",
       " 2083,\n",
       " 1739,\n",
       " 2966,\n",
       " 1177,\n",
       " 2560,\n",
       " 1832,\n",
       " 1105,\n",
       " 2012,\n",
       " 1582,\n",
       " 2039,\n",
       " 2364,\n",
       " 2539,\n",
       " 630,\n",
       " 1753,\n",
       " 1141,\n",
       " 648,\n",
       " 2422,\n",
       " 770,\n",
       " 2680,\n",
       " 2016,\n",
       " 2953,\n",
       " 1037,\n",
       " 757,\n",
       " 2982,\n",
       " 2659,\n",
       " 2742,\n",
       " 2874,\n",
       " 935,\n",
       " 1001,\n",
       " 756,\n",
       " 2662,\n",
       " 911,\n",
       " 1120,\n",
       " 2544,\n",
       " 818,\n",
       " 1402,\n",
       " 2271,\n",
       " 1759,\n",
       " 798,\n",
       " 75,\n",
       " 2235,\n",
       " 1849,\n",
       " 2054,\n",
       " 1598,\n",
       " 393,\n",
       " 2868,\n",
       " 1441,\n",
       " 171,\n",
       " 2076,\n",
       " 200,\n",
       " 2811,\n",
       " 2035,\n",
       " 88,\n",
       " 2970,\n",
       " 2627,\n",
       " 344,\n",
       " 2772,\n",
       " 884,\n",
       " 2753,\n",
       " 1231,\n",
       " 2162,\n",
       " 1930,\n",
       " 2170,\n",
       " 2863,\n",
       " 1269,\n",
       " 1521,\n",
       " 1898,\n",
       " 1060,\n",
       " 94,\n",
       " 93,\n",
       " 41,\n",
       " 2478,\n",
       " 915,\n",
       " 511,\n",
       " 1373,\n",
       " 359,\n",
       " 1343,\n",
       " 1158,\n",
       " 734,\n",
       " 162,\n",
       " 2050,\n",
       " 469,\n",
       " 979,\n",
       " 2047,\n",
       " 984,\n",
       " 1045,\n",
       " 2274,\n",
       " 2609,\n",
       " 2646,\n",
       " 744,\n",
       " 1444,\n",
       " 2770,\n",
       " 1863,\n",
       " 1150,\n",
       " 1667,\n",
       " 2073,\n",
       " 2342,\n",
       " 919,\n",
       " 2998,\n",
       " 2122,\n",
       " 2365,\n",
       " 13,\n",
       " 2295,\n",
       " 1881,\n",
       " 2113,\n",
       " 499,\n",
       " 1567,\n",
       " 2647,\n",
       " 741,\n",
       " 1924,\n",
       " 3,\n",
       " 492,\n",
       " 2421,\n",
       " 1631,\n",
       " 1927,\n",
       " 1806,\n",
       " 2300,\n",
       " 1923,\n",
       " 2743,\n",
       " 671,\n",
       " 2894,\n",
       " 1361,\n",
       " 1915,\n",
       " 2528,\n",
       " 292,\n",
       " 1067,\n",
       " 1142,\n",
       " 62,\n",
       " 1545,\n",
       " 2470,\n",
       " 1896,\n",
       " 1353,\n",
       " 898,\n",
       " 2118,\n",
       " 897,\n",
       " 838,\n",
       " 2438,\n",
       " 1199,\n",
       " 254,\n",
       " 223,\n",
       " 519,\n",
       " 1535,\n",
       " 2283,\n",
       " 2074,\n",
       " 2692,\n",
       " 2007,\n",
       " 522,\n",
       " 2028,\n",
       " 2003,\n",
       " 282,\n",
       " 1691,\n",
       " 1112,\n",
       " 42,\n",
       " 2653,\n",
       " 2357,\n",
       " 2784,\n",
       " 763,\n",
       " 1020,\n",
       " 956,\n",
       " 1327,\n",
       " 173,\n",
       " 2677,\n",
       " 1707,\n",
       " 2568,\n",
       " 1844,\n",
       " 1599,\n",
       " 2955,\n",
       " 2019,\n",
       " 1813,\n",
       " 1146,\n",
       " 549,\n",
       " 2303,\n",
       " 1852,\n",
       " 651,\n",
       " 1912,\n",
       " 1303,\n",
       " 1534,\n",
       " 2115,\n",
       " 105,\n",
       " 134,\n",
       " 914,\n",
       " 2440,\n",
       " 2654,\n",
       " 916,\n",
       " 1260,\n",
       " 2507,\n",
       " 742,\n",
       " 1426,\n",
       " 1395,\n",
       " 2407,\n",
       " 584,\n",
       " 2188,\n",
       " 2181,\n",
       " ...]"
      ]
     },
     "execution_count": 136,
     "metadata": {},
     "output_type": "execute_result"
    }
   ],
   "source": [
    "inds"
   ]
  },
  {
   "cell_type": "code",
   "execution_count": null,
   "id": "e27e46a4",
   "metadata": {},
   "outputs": [],
   "source": []
  },
  {
   "cell_type": "code",
   "execution_count": null,
   "id": "af31c173",
   "metadata": {},
   "outputs": [],
   "source": []
  },
  {
   "cell_type": "code",
   "execution_count": 50,
   "id": "2e99c04c",
   "metadata": {},
   "outputs": [
    {
     "data": {
      "text/plain": [
       "torch.Size([3, 256, 160, 16])"
      ]
     },
     "execution_count": 50,
     "metadata": {},
     "output_type": "execute_result"
    }
   ],
   "source": [
    "deformation.shape"
   ]
  },
  {
   "cell_type": "code",
   "execution_count": 13,
   "id": "ec744092",
   "metadata": {},
   "outputs": [],
   "source": [
    "dataset.close()"
   ]
  },
  {
   "cell_type": "code",
   "execution_count": null,
   "id": "f2221ece",
   "metadata": {},
   "outputs": [],
   "source": []
  },
  {
   "cell_type": "code",
   "execution_count": null,
   "id": "d8cd5cc2",
   "metadata": {},
   "outputs": [],
   "source": []
  },
  {
   "cell_type": "code",
   "execution_count": null,
   "id": "7b5a6b3f",
   "metadata": {},
   "outputs": [],
   "source": []
  },
  {
   "cell_type": "code",
   "execution_count": 27,
   "id": "83294d02",
   "metadata": {},
   "outputs": [],
   "source": [
    "dataset=Dataset(\"data/2022_03_21_1.h5\")\n",
    "dataset.open()"
   ]
  },
  {
   "cell_type": "code",
   "execution_count": 28,
   "id": "9a14302a",
   "metadata": {},
   "outputs": [],
   "source": [
    "fr=dataset.get_frame(0)"
   ]
  },
  {
   "cell_type": "code",
   "execution_count": 40,
   "id": "86c1dbbc",
   "metadata": {},
   "outputs": [
    {
     "data": {
      "text/plain": [
       "<matplotlib.image.AxesImage at 0x7f92d03fb280>"
      ]
     },
     "execution_count": 40,
     "metadata": {},
     "output_type": "execute_result"
    },
    {
     "data": {
      "image/png": "[encoded data removed]",
      "text/plain": [
       "<Figure size 432x288 with 1 Axes>"
      ]
     },
     "metadata": {
      "needs_background": "light"
     },
     "output_type": "display_data"
    }
   ],
   "source": [
    "im=fr[0].max(2)\n",
    "center=np.array(im.shape)/2-0.5\n",
    "plt.imshow(im.T,origin=\"lower\")"
   ]
  },
  {
   "cell_type": "code",
   "execution_count": 41,
   "id": "57b1cb9e",
   "metadata": {},
   "outputs": [
    {
     "data": {
      "text/plain": [
       "<matplotlib.image.AxesImage at 0x7f92d0344cd0>"
      ]
     },
     "execution_count": 41,
     "metadata": {},
     "output_type": "execute_result"
    },
    {
     "data": {
      "image/png": "[encoded data removed]",
      "text/plain": [
       "<Figure size 432x288 with 1 Axes>"
      ]
     },
     "metadata": {
      "needs_background": "light"
     },
     "output_type": "display_data"
    }
   ],
   "source": [
    "threshold=35\n",
    "binmask=im>threshold\n",
    "plt.imshow(binmask.T,origin=\"lower\")"
   ]
  },
  {
   "cell_type": "code",
   "execution_count": 42,
   "id": "d8273859",
   "metadata": {},
   "outputs": [
    {
     "data": {
      "text/plain": [
       "array([ 22.25367447, -53.99923789])"
      ]
     },
     "execution_count": 42,
     "metadata": {},
     "output_type": "execute_result"
    }
   ],
   "source": [
    "cm=sim.center_of_mass(im*binmask)\n",
    "movementcm-center"
   ]
  },
  {
   "cell_type": "code",
   "execution_count": null,
   "id": "45cc698d",
   "metadata": {},
   "outputs": [],
   "source": []
  },
  {
   "cell_type": "code",
   "execution_count": null,
   "id": "07b74163",
   "metadata": {},
   "outputs": [],
   "source": []
  },
  {
   "cell_type": "code",
   "execution_count": 25,
   "id": "f39d46e4",
   "metadata": {},
   "outputs": [],
   "source": [
    "dataset.close()"
   ]
  },
  {
   "cell_type": "code",
   "execution_count": null,
   "id": "e34e8483",
   "metadata": {},
   "outputs": [],
   "source": []
  },
  {
   "cell_type": "code",
   "execution_count": null,
   "id": "bbd2beb0",
   "metadata": {},
   "outputs": [],
   "source": []
  },
  {
   "cell_type": "code",
   "execution_count": 9,
   "id": "e7119611",
   "metadata": {},
   "outputs": [],
   "source": [
    "dataset=Dataset(\"/home/cfpark00/TrackingGUI/data/mili1-gt.h5\")\n",
    "dataset.open()\n",
    "points=dataset.get_points()\n",
    "dataset.close()"
   ]
  },
  {
   "cell_type": "code",
   "execution_count": 11,
   "id": "a2d458fd",
   "metadata": {},
   "outputs": [],
   "source": [
    "np.save(\"points.npy\",points)"
   ]
  },
  {
   "cell_type": "code",
   "execution_count": null,
   "id": "7bcdfb1e",
   "metadata": {},
   "outputs": [],
   "source": []
  },
  {
   "cell_type": "code",
   "execution_count": null,
   "id": "4b98a5cb",
   "metadata": {},
   "outputs": [],
   "source": []
  },
  {
   "cell_type": "code",
   "execution_count": 2,
   "id": "ebce211c",
   "metadata": {},
   "outputs": [
    {
     "ename": "FileNotFoundError",
     "evalue": "[Errno 2] Unable to open file (unable to open file: name = '/home/cfpark00/Projects/WormTracking/targettrack/data/184.h5', errno = 2, error message = 'No such file or directory', flags = 1, o_flags = 2)",
     "output_type": "error",
     "traceback": [
      "\u001b[0;31m---------------------------------------------------------------------------\u001b[0m",
      "\u001b[0;31mFileNotFoundError\u001b[0m                         Traceback (most recent call last)",
      "\u001b[0;32m/var/folders/2f/2w086jzs0294461454p43zgm0000gn/T/ipykernel_46070/2032487967.py\u001b[0m in \u001b[0;36m<module>\u001b[0;34m\u001b[0m\n\u001b[1;32m      1\u001b[0m \u001b[0mdataset\u001b[0m\u001b[0;34m=\u001b[0m\u001b[0mDataset\u001b[0m\u001b[0;34m(\u001b[0m\u001b[0;34m\"/home/cfpark00/Projects/WormTracking/targettrack/data/184.h5\"\u001b[0m\u001b[0;34m)\u001b[0m\u001b[0;34m\u001b[0m\u001b[0;34m\u001b[0m\u001b[0m\n\u001b[0;32m----> 2\u001b[0;31m \u001b[0mdataset\u001b[0m\u001b[0;34m.\u001b[0m\u001b[0mopen\u001b[0m\u001b[0;34m(\u001b[0m\u001b[0;34m)\u001b[0m\u001b[0;34m\u001b[0m\u001b[0;34m\u001b[0m\u001b[0m\n\u001b[0m\u001b[1;32m      3\u001b[0m \u001b[0mpoints\u001b[0m\u001b[0;34m=\u001b[0m\u001b[0mdataset\u001b[0m\u001b[0;34m.\u001b[0m\u001b[0mget_points\u001b[0m\u001b[0;34m(\u001b[0m\u001b[0;34m)\u001b[0m\u001b[0;34m\u001b[0m\u001b[0;34m\u001b[0m\u001b[0m\n\u001b[1;32m      4\u001b[0m \u001b[0mdataset\u001b[0m\u001b[0;34m.\u001b[0m\u001b[0mclose\u001b[0m\u001b[0;34m(\u001b[0m\u001b[0;34m)\u001b[0m\u001b[0;34m\u001b[0m\u001b[0;34m\u001b[0m\u001b[0m\n",
      "\u001b[0;32m~/Projects/TrackingGUI/src/Dataset.py\u001b[0m in \u001b[0;36mopen\u001b[0;34m(self)\u001b[0m\n\u001b[1;32m     20\u001b[0m         \u001b[0;32massert\u001b[0m \u001b[0mself\u001b[0m\u001b[0;34m.\u001b[0m\u001b[0mdata\u001b[0m \u001b[0;32mis\u001b[0m  \u001b[0;32mNone\u001b[0m\u001b[0;34m,\u001b[0m \u001b[0;34m\"file already open\"\u001b[0m\u001b[0;34m\u001b[0m\u001b[0;34m\u001b[0m\u001b[0m\n\u001b[1;32m     21\u001b[0m         \u001b[0;32mif\u001b[0m \u001b[0mself\u001b[0m\u001b[0;34m.\u001b[0m\u001b[0msuffix\u001b[0m\u001b[0;34m==\u001b[0m\u001b[0;34m\"h5\"\u001b[0m\u001b[0;34m:\u001b[0m\u001b[0;34m\u001b[0m\u001b[0;34m\u001b[0m\u001b[0m\n\u001b[0;32m---> 22\u001b[0;31m             \u001b[0mself\u001b[0m\u001b[0;34m.\u001b[0m\u001b[0mdata\u001b[0m\u001b[0;34m=\u001b[0m\u001b[0mh5py\u001b[0m\u001b[0;34m.\u001b[0m\u001b[0mFile\u001b[0m\u001b[0;34m(\u001b[0m\u001b[0mself\u001b[0m\u001b[0;34m.\u001b[0m\u001b[0mfile_path\u001b[0m\u001b[0;34m,\u001b[0m\u001b[0;34m\"r+\"\u001b[0m\u001b[0;34m)\u001b[0m\u001b[0;34m\u001b[0m\u001b[0;34m\u001b[0m\u001b[0m\n\u001b[0m\u001b[1;32m     23\u001b[0m \u001b[0;34m\u001b[0m\u001b[0m\n\u001b[1;32m     24\u001b[0m     \u001b[0;32mdef\u001b[0m \u001b[0mclose\u001b[0m\u001b[0;34m(\u001b[0m\u001b[0mself\u001b[0m\u001b[0;34m)\u001b[0m\u001b[0;34m:\u001b[0m\u001b[0;34m\u001b[0m\u001b[0;34m\u001b[0m\u001b[0m\n",
      "\u001b[0;32m/opt/anaconda3/lib/python3.9/site-packages/h5py/_hl/files.py\u001b[0m in \u001b[0;36m__init__\u001b[0;34m(self, name, mode, driver, libver, userblock_size, swmr, rdcc_nslots, rdcc_nbytes, rdcc_w0, track_order, fs_strategy, fs_persist, fs_threshold, fs_page_size, page_buf_size, min_meta_keep, min_raw_keep, locking, **kwds)\u001b[0m\n\u001b[1;32m    505\u001b[0m                                  \u001b[0mfs_persist\u001b[0m\u001b[0;34m=\u001b[0m\u001b[0mfs_persist\u001b[0m\u001b[0;34m,\u001b[0m \u001b[0mfs_threshold\u001b[0m\u001b[0;34m=\u001b[0m\u001b[0mfs_threshold\u001b[0m\u001b[0;34m,\u001b[0m\u001b[0;34m\u001b[0m\u001b[0;34m\u001b[0m\u001b[0m\n\u001b[1;32m    506\u001b[0m                                  fs_page_size=fs_page_size)\n\u001b[0;32m--> 507\u001b[0;31m                 \u001b[0mfid\u001b[0m \u001b[0;34m=\u001b[0m \u001b[0mmake_fid\u001b[0m\u001b[0;34m(\u001b[0m\u001b[0mname\u001b[0m\u001b[0;34m,\u001b[0m \u001b[0mmode\u001b[0m\u001b[0;34m,\u001b[0m \u001b[0muserblock_size\u001b[0m\u001b[0;34m,\u001b[0m \u001b[0mfapl\u001b[0m\u001b[0;34m,\u001b[0m \u001b[0mfcpl\u001b[0m\u001b[0;34m,\u001b[0m \u001b[0mswmr\u001b[0m\u001b[0;34m=\u001b[0m\u001b[0mswmr\u001b[0m\u001b[0;34m)\u001b[0m\u001b[0;34m\u001b[0m\u001b[0;34m\u001b[0m\u001b[0m\n\u001b[0m\u001b[1;32m    508\u001b[0m \u001b[0;34m\u001b[0m\u001b[0m\n\u001b[1;32m    509\u001b[0m             \u001b[0;32mif\u001b[0m \u001b[0misinstance\u001b[0m\u001b[0;34m(\u001b[0m\u001b[0mlibver\u001b[0m\u001b[0;34m,\u001b[0m \u001b[0mtuple\u001b[0m\u001b[0;34m)\u001b[0m\u001b[0;34m:\u001b[0m\u001b[0;34m\u001b[0m\u001b[0;34m\u001b[0m\u001b[0m\n",
      "\u001b[0;32m/opt/anaconda3/lib/python3.9/site-packages/h5py/_hl/files.py\u001b[0m in \u001b[0;36mmake_fid\u001b[0;34m(name, mode, userblock_size, fapl, fcpl, swmr)\u001b[0m\n\u001b[1;32m    220\u001b[0m         \u001b[0mfid\u001b[0m \u001b[0;34m=\u001b[0m \u001b[0mh5f\u001b[0m\u001b[0;34m.\u001b[0m\u001b[0mopen\u001b[0m\u001b[0;34m(\u001b[0m\u001b[0mname\u001b[0m\u001b[0;34m,\u001b[0m \u001b[0mflags\u001b[0m\u001b[0;34m,\u001b[0m \u001b[0mfapl\u001b[0m\u001b[0;34m=\u001b[0m\u001b[0mfapl\u001b[0m\u001b[0;34m)\u001b[0m\u001b[0;34m\u001b[0m\u001b[0;34m\u001b[0m\u001b[0m\n\u001b[1;32m    221\u001b[0m     \u001b[0;32melif\u001b[0m \u001b[0mmode\u001b[0m \u001b[0;34m==\u001b[0m \u001b[0;34m'r+'\u001b[0m\u001b[0;34m:\u001b[0m\u001b[0;34m\u001b[0m\u001b[0;34m\u001b[0m\u001b[0m\n\u001b[0;32m--> 222\u001b[0;31m         \u001b[0mfid\u001b[0m \u001b[0;34m=\u001b[0m \u001b[0mh5f\u001b[0m\u001b[0;34m.\u001b[0m\u001b[0mopen\u001b[0m\u001b[0;34m(\u001b[0m\u001b[0mname\u001b[0m\u001b[0;34m,\u001b[0m \u001b[0mh5f\u001b[0m\u001b[0;34m.\u001b[0m\u001b[0mACC_RDWR\u001b[0m\u001b[0;34m,\u001b[0m \u001b[0mfapl\u001b[0m\u001b[0;34m=\u001b[0m\u001b[0mfapl\u001b[0m\u001b[0;34m)\u001b[0m\u001b[0;34m\u001b[0m\u001b[0;34m\u001b[0m\u001b[0m\n\u001b[0m\u001b[1;32m    223\u001b[0m     \u001b[0;32melif\u001b[0m \u001b[0mmode\u001b[0m \u001b[0;32min\u001b[0m \u001b[0;34m[\u001b[0m\u001b[0;34m'w-'\u001b[0m\u001b[0;34m,\u001b[0m \u001b[0;34m'x'\u001b[0m\u001b[0;34m]\u001b[0m\u001b[0;34m:\u001b[0m\u001b[0;34m\u001b[0m\u001b[0;34m\u001b[0m\u001b[0m\n\u001b[1;32m    224\u001b[0m         \u001b[0mfid\u001b[0m \u001b[0;34m=\u001b[0m \u001b[0mh5f\u001b[0m\u001b[0;34m.\u001b[0m\u001b[0mcreate\u001b[0m\u001b[0;34m(\u001b[0m\u001b[0mname\u001b[0m\u001b[0;34m,\u001b[0m \u001b[0mh5f\u001b[0m\u001b[0;34m.\u001b[0m\u001b[0mACC_EXCL\u001b[0m\u001b[0;34m,\u001b[0m \u001b[0mfapl\u001b[0m\u001b[0;34m=\u001b[0m\u001b[0mfapl\u001b[0m\u001b[0;34m,\u001b[0m \u001b[0mfcpl\u001b[0m\u001b[0;34m=\u001b[0m\u001b[0mfcpl\u001b[0m\u001b[0;34m)\u001b[0m\u001b[0;34m\u001b[0m\u001b[0;34m\u001b[0m\u001b[0m\n",
      "\u001b[0;32mh5py/_objects.pyx\u001b[0m in \u001b[0;36mh5py._objects.with_phil.wrapper\u001b[0;34m()\u001b[0m\n",
      "\u001b[0;32mh5py/_objects.pyx\u001b[0m in \u001b[0;36mh5py._objects.with_phil.wrapper\u001b[0;34m()\u001b[0m\n",
      "\u001b[0;32mh5py/h5f.pyx\u001b[0m in \u001b[0;36mh5py.h5f.open\u001b[0;34m()\u001b[0m\n",
      "\u001b[0;31mFileNotFoundError\u001b[0m: [Errno 2] Unable to open file (unable to open file: name = '/home/cfpark00/Projects/WormTracking/targettrack/data/184.h5', errno = 2, error message = 'No such file or directory', flags = 1, o_flags = 2)"
     ]
    }
   ],
   "source": [
    "dataset=Dataset(\"/home/cfpark00/Projects/WormTracking/targettrack/data/184.h5\")\n",
    "dataset.open()\n",
    "points=dataset.get_points()\n",
    "dataset.close()"
   ]
  },
  {
   "cell_type": "code",
   "execution_count": 3,
   "id": "b5aec8ce",
   "metadata": {},
   "outputs": [
    {
     "data": {
      "text/plain": [
       "<matplotlib.collections.PathCollection at 0x7f96356de250>"
      ]
     },
     "execution_count": 3,
     "metadata": {},
     "output_type": "execute_result"
    },
    {
     "data": {
      "image/png": "[encoded data removed]",
      "text/plain": [
       "<Figure size 432x288 with 1 Axes>"
      ]
     },
     "metadata": {
      "needs_background": "light"
     },
     "output_type": "display_data"
    }
   ],
   "source": [
    "ptfrom=points[0]\n",
    "ptto=points[100]\n",
    "plt.scatter(*ptfrom[:,:2].T)\n",
    "plt.scatter(*ptto[:,:2].T)"
   ]
  },
  {
   "cell_type": "code",
   "execution_count": 4,
   "id": "28698c78",
   "metadata": {},
   "outputs": [
    {
     "name": "stdout",
     "output_type": "stream",
     "text": [
      "4.869450092315674\n",
      "4.919613361358643\n",
      "3.572965621948242\n",
      "2.6245758533477783\n",
      "2.8917317390441895\n",
      "2.784406900405884\n",
      "2.377760410308838\n",
      "2.189540386199951\n",
      "2.09248423576355\n",
      "1.8094682693481445\n",
      "1.604529619216919\n",
      "1.5201798677444458\n",
      "1.5096213817596436\n",
      "1.475572943687439\n",
      "1.4074437618255615\n",
      "1.4056341648101807\n",
      "1.409444808959961\n",
      "1.3877288103103638\n",
      "1.243016004562378\n",
      "1.1371523141860962\n",
      "1.0456931591033936\n",
      "1.0602575540542603\n",
      "1.031825304031372\n",
      "1.0220222473144531\n",
      "0.9543790817260742\n",
      "0.9542558193206787\n",
      "0.9625335335731506\n",
      "0.9586924910545349\n",
      "0.8873180150985718\n",
      "0.8446359634399414\n",
      "0.7950338125228882\n",
      "0.7867451906204224\n",
      "0.8079757690429688\n",
      "0.7933118343353271\n",
      "0.7538635730743408\n",
      "0.7355953454971313\n",
      "0.7380530834197998\n",
      "0.7113739848136902\n",
      "0.6954070329666138\n",
      "0.6789027452468872\n",
      "0.6751428842544556\n",
      "0.6545417904853821\n",
      "0.6609717011451721\n",
      "0.6640117168426514\n",
      "0.6332080960273743\n",
      "0.6262078881263733\n",
      "0.6198529005050659\n",
      "0.6108863353729248\n",
      "0.6228138208389282\n",
      "0.5922449231147766\n",
      "0.5897855162620544\n",
      "0.579684853553772\n",
      "0.5713846683502197\n",
      "0.566208004951477\n",
      "0.5813540816307068\n",
      "0.5580483078956604\n",
      "0.5475435256958008\n",
      "0.5631707310676575\n",
      "0.5422406196594238\n",
      "0.5607808232307434\n",
      "0.5477496385574341\n",
      "0.5567710399627686\n",
      "0.5489920377731323\n",
      "0.5417783260345459\n",
      "0.5423051118850708\n",
      "0.5430471301078796\n",
      "0.5386737585067749\n",
      "0.5335942506790161\n",
      "0.5283387303352356\n",
      "0.5349409580230713\n",
      "0.5170302987098694\n",
      "0.5336565971374512\n",
      "0.5287598967552185\n",
      "0.5162807106971741\n",
      "0.5171553492546082\n",
      "0.5340989232063293\n",
      "0.519676923751831\n",
      "0.5204814672470093\n",
      "0.5115894675254822\n",
      "0.5243310332298279\n",
      "0.5116560459136963\n",
      "0.5282938480377197\n",
      "0.5116962790489197\n",
      "0.5186182856559753\n",
      "0.5196710824966431\n",
      "0.5100593566894531\n",
      "0.5267823338508606\n",
      "0.5283266305923462\n",
      "0.5117968320846558\n",
      "0.5390392541885376\n",
      "0.5118996500968933\n",
      "0.5214371681213379\n",
      "0.5063183903694153\n",
      "0.5355653762817383\n",
      "0.5159820318222046\n",
      "0.5231999754905701\n",
      "0.5459352731704712\n",
      "0.5229687690734863\n",
      "0.5486859083175659\n",
      "0.5318701267242432\n",
      "0.5168755054473877\n",
      "0.5331577062606812\n",
      "0.5271634459495544\n",
      "0.5408604741096497\n",
      "0.5364861488342285\n",
      "0.5392844676971436\n",
      "0.5038036704063416\n",
      "0.5540602207183838\n",
      "0.5117096304893494\n",
      "0.54558926820755\n",
      "0.543736457824707\n",
      "0.5237919688224792\n",
      "0.5234802961349487\n",
      "0.5265645384788513\n",
      "0.5114232897758484\n",
      "0.541774332523346\n",
      "0.5239611268043518\n",
      "0.5308316946029663\n",
      "0.5167667269706726\n",
      "0.5168681740760803\n",
      "0.5130914449691772\n",
      "0.519745409488678\n",
      "0.5176334381103516\n",
      "0.49793967604637146\n",
      "0.5325955152511597\n",
      "0.514706015586853\n",
      "0.4833657145500183\n",
      "0.5011675953865051\n",
      "0.4930630028247833\n",
      "0.5153849720954895\n",
      "0.49307411909103394\n",
      "0.5003793835639954\n",
      "0.4911409914493561\n",
      "0.5182197690010071\n",
      "0.4866192638874054\n",
      "0.5054190158843994\n",
      "0.4966180622577667\n",
      "0.48438572883605957\n",
      "0.5004894733428955\n",
      "0.49089884757995605\n",
      "0.4896770119667053\n",
      "0.49651622772216797\n",
      "0.48799386620521545\n",
      "0.4844140112400055\n",
      "0.4905919134616852\n",
      "0.4824017286300659\n",
      "0.49572867155075073\n",
      "0.48029136657714844\n",
      "0.4856937825679779\n",
      "0.496023565530777\n",
      "0.4941515624523163\n",
      "0.49600568413734436\n",
      "0.49846652150154114\n",
      "0.48747944831848145\n",
      "0.49811673164367676\n",
      "0.508407711982727\n",
      "0.4876464009284973\n",
      "0.4987291097640991\n",
      "0.4948063790798187\n",
      "0.49079036712646484\n",
      "0.48399466276168823\n",
      "0.4980366826057434\n",
      "0.4816998243331909\n",
      "0.4803653359413147\n",
      "0.4602850079536438\n",
      "0.4687895178794861\n",
      "0.46989554166793823\n",
      "0.4658624231815338\n",
      "0.4544019103050232\n",
      "0.4704696238040924\n",
      "0.45643964409828186\n",
      "0.4670080244541168\n",
      "0.47272270917892456\n",
      "0.4548579156398773\n",
      "0.4743040204048157\n",
      "0.48975735902786255\n",
      "0.4856790006160736\n",
      "0.4782274663448334\n",
      "0.4670535624027252\n",
      "0.4793689548969269\n",
      "0.4667949974536896\n",
      "0.47655969858169556\n",
      "0.47063592076301575\n",
      "0.46675679087638855\n",
      "0.47805529832839966\n",
      "0.4628548324108124\n",
      "0.48226603865623474\n",
      "0.46529340744018555\n",
      "0.4765494465827942\n",
      "0.4644692540168762\n",
      "0.470944881439209\n",
      "0.46456658840179443\n",
      "0.4788095951080322\n",
      "0.4750910699367523\n",
      "0.5065798759460449\n",
      "0.46945908665657043\n",
      "0.4804922044277191\n",
      "0.4803653061389923\n",
      "0.47917264699935913\n",
      "0.48916295170783997\n"
     ]
    }
   ],
   "source": [
    "deformation,losses,msg=deformation.get_deformation(ptfrom,ptto,sh=(256,160,16),k_cut_dimless=2.5,lr=0.1,iterations=200,lambda_div=1,scale=(1,1,1),at_least=4,device=\"cuda\",verbose=True,return_losses=True)"
   ]
  },
  {
   "cell_type": "code",
   "execution_count": 5,
   "id": "f8d4692f",
   "metadata": {},
   "outputs": [
    {
     "data": {
      "image/png": "[encoded data removed]",
      "text/plain": [
       "<Figure size 432x288 with 1 Axes>"
      ]
     },
     "metadata": {
      "needs_background": "light"
     },
     "output_type": "display_data"
    }
   ],
   "source": [
    "plt.plot(losses)\n",
    "plt.yscale(\"log\")"
   ]
  },
  {
   "cell_type": "code",
   "execution_count": 7,
   "id": "a4ac060a",
   "metadata": {},
   "outputs": [
    {
     "data": {
      "text/plain": [
       "device(type='cuda', index=0)"
      ]
     },
     "execution_count": 7,
     "metadata": {},
     "output_type": "execute_result"
    }
   ],
   "source": [
    "deformation.device"
   ]
  },
  {
   "cell_type": "code",
   "execution_count": null,
   "id": "7a848de6",
   "metadata": {},
   "outputs": [],
   "source": []
  },
  {
   "cell_type": "code",
   "execution_count": null,
   "id": "46196b2b",
   "metadata": {},
   "outputs": [],
   "source": []
  },
  {
   "cell_type": "code",
   "execution_count": null,
   "id": "1931befd",
   "metadata": {},
   "outputs": [],
   "source": []
  },
  {
   "cell_type": "code",
   "execution_count": 34,
   "id": "cef61691",
   "metadata": {},
   "outputs": [],
   "source": [
    "import scipy.spatial as sspat\n",
    "import numpy as np\n",
    "from src.Dataset import Dataset\n",
    "import scipy.interpolate as sintp"
   ]
  },
  {
   "cell_type": "code",
   "execution_count": null,
   "id": "f9b12f8d",
   "metadata": {},
   "outputs": [],
   "source": [
    "points=np.load(\"./points.npy\")\n",
    "#ts=np.arange(len(points))\n",
    "#f_intp=sintp.interp1d(ts,points,axis=0)\n",
    "#ts_=np.linspace(0,len(points)-1,2500)\n",
    "#points=f_intp(ts_)\n",
    "#points=points[:,:,[1,0,2]]"
   ]
  },
  {
   "cell_type": "code",
   "execution_count": null,
   "id": "6c559123",
   "metadata": {},
   "outputs": [],
   "source": [
    "dataset=Dataset(\"./data/mili1.h5\")\n",
    "dataset.open()\n",
    "dataset.set_data(\"points\",points[:,:,[1,0,2]],compression=None,overwrite=True)\n",
    "dataset.close()"
   ]
  },
  {
   "cell_type": "code",
   "execution_count": null,
   "id": "ebf2484e",
   "metadata": {},
   "outputs": [],
   "source": []
  },
  {
   "cell_type": "code",
   "execution_count": null,
   "id": "be295ee0",
   "metadata": {},
   "outputs": [],
   "source": [
    "import scipy.spatial as sspat\n",
    "import numpy as np\n",
    "\n",
    "def interpolate_points(points,t_ref=0):\n",
    "    \"\"\"\n",
    "    points (T,N+1,2) float32 : an array of coordinates for N points, np.nan where it doesn't exist, points[:,0] should be all nan\n",
    "    t_ref reference time\n",
    "    \n",
    "    returns\n",
    "    \n",
    "    ptss (T,N+1,2) float32 an array of coordinates like points where coordinates for nans are interpolated\n",
    "    \"\"\"\n",
    "    T=points.shape[0]\n",
    "    points_ref=points[t_ref,1:]\n",
    "    existing_ref=~np.isnan(points_ref[:,0])\n",
    "    distmat=sspat.distance.squareform(sspat.distance.pdist(points_ref))\n",
    "    np.fill_diagonal(distmat,np.nan)\n",
    "\n",
    "    ptss=np.full_like(points,np.nan)\n",
    "    for t in range(T):\n",
    "        existing=~np.isnan(points[t,1:,0])\n",
    "        if existing.sum()==0:\n",
    "            pass\n",
    "        todo=np.nonzero(~(existing*existing_ref))[0]\n",
    "        for i in todo:\n",
    "            validrefs=np.nonzero((~np.isnan(distmat[i]))*existing*existing_ref)[0]\n",
    "            if len(validrefs)==0:\n",
    "                continue\n",
    "            weights=(1/(distmat[i,validrefs]+epsilon))**2\n",
    "            vecs=points[t,validrefs+1,:2]-points_ref[validrefs,:2]\n",
    "            vec=(weights[:,None]*vecs).sum(0)/weights.sum()\n",
    "            ptss[t,1+i,:2]=points_ref[i]+vec\n",
    "    return ptss"
   ]
  },
  {
   "cell_type": "code",
   "execution_count": null,
   "id": "9d7bc721",
   "metadata": {},
   "outputs": [],
   "source": [
    "ptss=interpolate_points(points[:,:,:2],t_ref=0)"
   ]
  },
  {
   "cell_type": "code",
   "execution_count": null,
   "id": "bfb99db8",
   "metadata": {},
   "outputs": [],
   "source": [
    "ptss.shape"
   ]
  },
  {
   "cell_type": "code",
   "execution_count": null,
   "id": "ab520769",
   "metadata": {},
   "outputs": [],
   "source": []
  },
  {
   "cell_type": "code",
   "execution_count": null,
   "id": "c8d70293",
   "metadata": {},
   "outputs": [],
   "source": [
    "distmat=sspat.distance.squareform(sspat.distance.pdist(np.full((30,3),np.nan)))\n",
    "distmat.shape"
   ]
  },
  {
   "cell_type": "code",
   "execution_count": null,
   "id": "32134530",
   "metadata": {},
   "outputs": [],
   "source": []
  }
 ],
 "metadata": {
  "kernelspec": {
   "display_name": "Python 3",
   "language": "python",
   "name": "python3"
  },
  "language_info": {
   "codemirror_mode": {
    "name": "ipython",
    "version": 3
   },
   "file_extension": ".py",
   "mimetype": "text/x-python",
   "name": "python",
   "nbconvert_exporter": "python",
   "pygments_lexer": "ipython3",
   "version": "3.8.12"
  }
 },
 "nbformat": 4,
 "nbformat_minor": 5
}
