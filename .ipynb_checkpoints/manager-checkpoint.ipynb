{
 "cells": [
  {
   "cell_type": "code",
   "execution_count": 28,
   "id": "4aa58c14",
   "metadata": {},
   "outputs": [],
   "source": [
    "import numpy as np\n",
    "import h5py\n",
    "import os"
   ]
  },
  {
   "cell_type": "code",
   "execution_count": 29,
   "id": "4ec3223b",
   "metadata": {},
   "outputs": [],
   "source": [
    "fn=\"./data/example.h5\"\n",
    "N,T,C,W,H,D=20,221,2,256,160,16"
   ]
  },
  {
   "cell_type": "code",
   "execution_count": 30,
   "id": "7f1ae58b",
   "metadata": {},
   "outputs": [],
   "source": [
    "if os.path.exists(fn):\n",
    "    os.remove(fn)\n",
    "fol=os.path.split(fn)[0]\n",
    "if not os.path.exists(fol):\n",
    "    os.makedirs(fol)\n",
    "with h5py.File(fn,\"w\")as h5:\n",
    "    for i in range(T):\n",
    "        ds=h5.create_dataset(str(i)+\"/frame\",(C,W,H,D),dtype=np.int16)\n",
    "        ds[...]=np.random.choice(255,size=ds.shape,replace=True).astype(np.int16)\n",
    "    h5.attrs[\"T\"]=T\n",
    "    h5.attrs[\"C\"]=C\n",
    "    h5.attrs[\"W\"]=W\n",
    "    h5.attrs[\"H\"]=H\n",
    "    h5.attrs[\"D\"]=D\n",
    "    h5.attrs[\"N_points\"]=N"
   ]
  },
  {
   "cell_type": "code",
   "execution_count": 31,
   "id": "4cb0cd8b",
   "metadata": {},
   "outputs": [],
   "source": [
    "with h5py.File(fn,\"r+\")as h5:\n",
    "    points=np.random.random((T,N+1,3))*np.array([255,159,15])[None,None,:]\n",
    "    points[np.random.choice(T,100,replace=False)]=np.nan\n",
    "    rm=np.random.random((T,N+1))<0.2\n",
    "    points[rm]=np.nan\n",
    "    \n",
    "    points[:,0,:]=np.nan\n",
    "    \n",
    "    ds=h5.create_dataset(\"points\",points.shape,points.dtype)\n",
    "    ds[...]=points\n",
    "    \n",
    "    for i in range(3):\n",
    "        helper=np.random.random((T,N+1,3))*np.array([255,159,15])[None,None,:]\n",
    "        helper[:,0,:]=np.nan\n",
    "        ds=h5.create_dataset(\"helper_\"+str(i+1),points.shape,points.dtype)\n",
    "        ds[...]=points"
   ]
  },
  {
   "cell_type": "code",
   "execution_count": null,
   "id": "d63f1e6f",
   "metadata": {},
   "outputs": [],
   "source": []
  }
 ],
 "metadata": {
  "kernelspec": {
   "display_name": "Python 3 (ipykernel)",
   "language": "python",
   "name": "python3"
  },
  "language_info": {
   "codemirror_mode": {
    "name": "ipython",
    "version": 3
   },
   "file_extension": ".py",
   "mimetype": "text/x-python",
   "name": "python",
   "nbconvert_exporter": "python",
   "pygments_lexer": "ipython3",
   "version": "3.9.7"
  }
 },
 "nbformat": 4,
 "nbformat_minor": 5
}
